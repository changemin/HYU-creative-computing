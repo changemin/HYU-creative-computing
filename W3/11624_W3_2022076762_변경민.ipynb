{
 "cells": [
  {
   "cell_type": "markdown",
   "id": "05195b80",
   "metadata": {},
   "source": [
    "## 11624_W3_2022076762_변경민"
   ]
  },
  {
   "cell_type": "markdown",
   "id": "57427f58",
   "metadata": {},
   "source": [
    "### P1. 우측 순서도를 참고하여 아래 소스코드를 작성하고 실행해보세요."
   ]
  },
  {
   "cell_type": "code",
   "execution_count": null,
   "id": "401ce326",
   "metadata": {},
   "outputs": [],
   "source": [
    "print('안녕? 나는 두더지, 땅굴의 전문가지~')\n",
    "print('나는 1번~7번 사이 땅굴에 숨어 있을게.')\n",
    "print('내가 숨은 곳을 찾아봐~')\n",
    "print()\n",
    "\n",
    "burrow = 3\n",
    "guess = int(input('두더지가 있는 땅굴번호를 맞춰보세요(1~7): '))\n",
    "\n",
    "if (burrow == guess) :\n",
    "    print('나를 찾았군! 잘 했다.')\n",
    "\n",
    "if (burrow != guess) :\n",
    "    print('아니야, 나는', burrow, '에 있어.')"
   ]
  },
  {
   "cell_type": "markdown",
   "id": "803e3499",
   "metadata": {},
   "source": [
    "### P2. 다음 소스코드들의 실행 결과를 예상해본 후, 그 결과를 확인하세요."
   ]
  },
  {
   "cell_type": "markdown",
   "id": "151cb4ea",
   "metadata": {},
   "source": [
    "#### P2-1"
   ]
  },
  {
   "cell_type": "code",
   "execution_count": 7,
   "id": "fa56e17a",
   "metadata": {},
   "outputs": [
    {
     "ename": "NameError",
     "evalue": "name 'b' is not defined",
     "output_type": "error",
     "traceback": [
      "\u001b[0;31m---------------------------------------------------------------------------\u001b[0m",
      "\u001b[0;31mNameError\u001b[0m                                 Traceback (most recent call last)",
      "\u001b[0;32m/var/folders/s0/vg84dv0d4j58bhp5swqs92180000gn/T/ipykernel_1314/780585065.py\u001b[0m in \u001b[0;36m<module>\u001b[0;34m\u001b[0m\n\u001b[1;32m      3\u001b[0m     \u001b[0ma\u001b[0m \u001b[0;34m=\u001b[0m \u001b[0ma\u001b[0m\u001b[0;34m-\u001b[0m\u001b[0;36m5\u001b[0m\u001b[0;34m\u001b[0m\u001b[0;34m\u001b[0m\u001b[0m\n\u001b[1;32m      4\u001b[0m     \u001b[0mb\u001b[0m \u001b[0;34m=\u001b[0m \u001b[0ma\u001b[0m\u001b[0;34m*\u001b[0m\u001b[0;36m10\u001b[0m\u001b[0;34m\u001b[0m\u001b[0;34m\u001b[0m\u001b[0m\n\u001b[0;32m----> 5\u001b[0;31m \u001b[0mprint\u001b[0m\u001b[0;34m(\u001b[0m\u001b[0ma\u001b[0m\u001b[0;34m,\u001b[0m \u001b[0mb\u001b[0m\u001b[0;34m)\u001b[0m\u001b[0;34m\u001b[0m\u001b[0;34m\u001b[0m\u001b[0m\n\u001b[0m",
      "\u001b[0;31mNameError\u001b[0m: name 'b' is not defined"
     ]
    }
   ],
   "source": [
    "a = 5\n",
    "if a%2 == 0:\n",
    "    a = a-5\n",
    "    b = a*10\n",
    "print(a, b)\n",
    "\n",
    "## if 문 안의 코드가 실행되지 않았기에 오류가 난다."
   ]
  },
  {
   "cell_type": "markdown",
   "id": "e8c345fb",
   "metadata": {},
   "source": [
    "#### P2-2"
   ]
  },
  {
   "cell_type": "code",
   "execution_count": 8,
   "id": "95b1f65e",
   "metadata": {},
   "outputs": [
    {
     "name": "stdout",
     "output_type": "stream",
     "text": [
      "5 50\n"
     ]
    }
   ],
   "source": [
    "a = 5\n",
    "if a%2 == 0:\n",
    "    a = a-5\n",
    "b = a*10\n",
    "print(a, b)"
   ]
  },
  {
   "cell_type": "markdown",
   "id": "9b2a507f",
   "metadata": {},
   "source": [
    "### P3. 다음 소스코드는 음식 토너먼트의 일부이다. q1에 대한 if-else문을 참고해서 q2 ~q5에 대해 if-else문을 추가하여 프로그램을 완성하세요."
   ]
  },
  {
   "cell_type": "code",
   "execution_count": 9,
   "id": "b72b0cab",
   "metadata": {},
   "outputs": [
    {
     "name": "stdout",
     "output_type": "stream",
     "text": [
      "음식 이상형 월드컵~\n",
      "당신이 좋아하는 음식을 입력해주세요.\n",
      "1. 짜장면 vs 짬뽕짜장면\n",
      "2. 햄버거 vs 피자피자\n",
      "3. 봉골레파스타 vs 로제파스타로제파스타\n",
      "4. 양념치킨 vs 후라이드치킨후라이드치킨\n",
      "5. 콜라 vs 사이다사이다\n",
      "당신은 짬뽕보다 짜장면을 좋아합니다.\n",
      "당신은 햄버거보다 피자를 좋아합니다.\n",
      "당신은 봉골레파스타보다 로제파스타를 좋아합니다.\n",
      "당신은 양념치킨보다 후라이드치킨을 좋아합니다.\n",
      "당신은 콜라보다 사이다을를 좋아합니다.\n"
     ]
    }
   ],
   "source": [
    "print('음식 이상형 월드컵~')\n",
    "print('당신이 좋아하는 음식을 입력해주세요.')\n",
    "\n",
    "q1 = input('1. 짜장면 vs 짬뽕')\n",
    "q2 = input('2. 햄버거 vs 피자')\n",
    "q3 = input('3. 봉골레파스타 vs 로제파스타')\n",
    "q4 = input('4. 양념치킨 vs 후라이드치킨')\n",
    "q5 = input('5. 콜라 vs 사이다')\n",
    "\n",
    "if q1 == '짜장면':\n",
    "    print('당신은 짬뽕보다 짜장면을 좋아합니다.')\n",
    "else:\n",
    "    print('당신은 짜장면보다 짬뽕을 좋아합니다.')\n",
    "    \n",
    "if q2 == '햄버거':\n",
    "    print('당신은 피자보다 햄버거를 좋아합니다.')\n",
    "else:\n",
    "    print('당신은 햄버거보다 피자를 좋아합니다.')\n",
    "    \n",
    "if q3 == '봉골레파스타':\n",
    "    print('당신은 로제파스타보다 봉골레파스타를 좋아합니다.')\n",
    "else:\n",
    "    print('당신은 봉골레파스타보다 로제파스타를 좋아합니다.')\n",
    "    \n",
    "if q4 == '양념치킨':\n",
    "    print('당신은 후라이드치킨보다 양념치킨을 좋아합니다.')\n",
    "else:\n",
    "    print('당신은 양념치킨보다 후라이드치킨을 좋아합니다.')\n",
    "    \n",
    "if q5 == '콜라':\n",
    "    print('당신은 사이다보다 콜라를 좋아합니다.')\n",
    "else:\n",
    "    print('당신은 콜라보다 사이다을를 좋아합니다.')"
   ]
  },
  {
   "cell_type": "markdown",
   "id": "a47f6381",
   "metadata": {},
   "source": [
    "### P4. 임의의 정수를 1개 입력받아 양수, 0, 음수를 구별하고 출력하는 프로그램을 작성하세요."
   ]
  },
  {
   "cell_type": "code",
   "execution_count": 10,
   "id": "fb9a8b65",
   "metadata": {},
   "outputs": [
    {
     "name": "stdout",
     "output_type": "stream",
     "text": [
      "정수 1개를 입력하시오: 15\n",
      "양수입니다.\n"
     ]
    }
   ],
   "source": [
    "num = int(input('정수 1개를 입력하시오: '))\n",
    "\n",
    "if num == 0:\n",
    "    print('영입니다.')\n",
    "elif num > 0:\n",
    "    print('양수입니다.')\n",
    "else:\n",
    "    print('음수입니다.')"
   ]
  },
  {
   "cell_type": "markdown",
   "id": "d92b7b80",
   "metadata": {},
   "source": [
    "### P5. 두 정수를 입력 받아 큰 수 와 작은 수로 구분하여 출력하는 프로그램을 작성하세요."
   ]
  },
  {
   "cell_type": "code",
   "execution_count": 11,
   "id": "11b5804b",
   "metadata": {},
   "outputs": [
    {
     "name": "stdout",
     "output_type": "stream",
     "text": [
      "첫 번째 정수를 입력하시오: 15\n",
      "두 번째 정수를 입력하시오: 30\n",
      "큰 수:  30\n",
      "작은 수:  15\n"
     ]
    }
   ],
   "source": [
    "n1 = int(input('첫 번째 정수를 입력하시오: '))\n",
    "n2 = int(input('두 번째 정수를 입력하시오: '))\n",
    "\n",
    "if n1 == n2:\n",
    "    print('두 수는 같습니다.')\n",
    "elif n1 > n2:\n",
    "    print('큰 수: ', n1)\n",
    "    print('작은 수: ', n2)\n",
    "else:\n",
    "    print('큰 수: ', n2)\n",
    "    print('작은 수: ', n1)"
   ]
  },
  {
   "cell_type": "markdown",
   "id": "f9c708e1",
   "metadata": {},
   "source": [
    "### P6. 중간고사 점수와 기말고사 점수를 입력받아 평균을 구하고, 아래 규칙에 따라 결과를 출력하는 프로그램을 작성하세요."
   ]
  },
  {
   "cell_type": "code",
   "execution_count": 12,
   "id": "f4c4e178",
   "metadata": {},
   "outputs": [
    {
     "name": "stdout",
     "output_type": "stream",
     "text": [
      "중간고사 점수를 입력해주세요: 75\n",
      "기말고사 점수를 입력해주세요: 85\n",
      "Good!\n",
      "평균점수는  80.0 입니다.\n"
     ]
    }
   ],
   "source": [
    "midTerm = int(input('중간고사 점수를 입력해주세요: '))\n",
    "lastTerm = int(input('기말고사 점수를 입력해주세요: '))\n",
    "\n",
    "avg = (midTerm + lastTerm)/2\n",
    "\n",
    "if avg >= 90:\n",
    "    print('Excellent!')\n",
    "elif avg >= 80:\n",
    "    print('Good!')\n",
    "elif avg >= 70:\n",
    "    print('Fair~')\n",
    "else:\n",
    "    print('See you again!')\n",
    "    \n",
    "print('평균점수는 ', avg, '입니다.')"
   ]
  },
  {
   "cell_type": "code",
   "execution_count": null,
   "id": "292d5d26",
   "metadata": {},
   "outputs": [],
   "source": []
  }
 ],
 "metadata": {
  "kernelspec": {
   "display_name": "Python 3 (ipykernel)",
   "language": "python",
   "name": "python3"
  },
  "language_info": {
   "codemirror_mode": {
    "name": "ipython",
    "version": 3
   },
   "file_extension": ".py",
   "mimetype": "text/x-python",
   "name": "python",
   "nbconvert_exporter": "python",
   "pygments_lexer": "ipython3",
   "version": "3.9.7"
  }
 },
 "nbformat": 4,
 "nbformat_minor": 5
}
