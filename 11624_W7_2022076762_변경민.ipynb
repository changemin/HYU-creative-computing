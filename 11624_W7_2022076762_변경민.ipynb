{
 "cells": [
  {
   "cell_type": "markdown",
   "metadata": {},
   "source": [
    "# 11624_W7_2022076762_변경민"
   ]
  },
  {
   "cell_type": "markdown",
   "metadata": {},
   "source": [
    "### P1.지뢰찾기 게임을 구현하고 실행하세요"
   ]
  },
  {
   "cell_type": "code",
   "execution_count": 4,
   "metadata": {},
   "outputs": [
    {
     "name": "stdout",
     "output_type": "stream",
     "text": [
      "============================================================\n",
      "지뢰찾기게임 - 주어진 횟수 안에 지뢰를 찾으세요\n",
      "============================================================\n",
      "0 ~ 29 사이의 지뢰를 찾아보세요:  30\n",
      "지뢰는 더 낮은 칸에 있습니다.\n",
      "남은 횟수: 4 \n",
      "\n",
      "0 ~ 29 사이의 지뢰를 찾아보세요:  15\n",
      "지뢰는 더 낮은 칸에 있습니다.\n",
      "남은 횟수: 3 \n",
      "\n",
      "0 ~ 14 사이의 지뢰를 찾아보세요:  7\n",
      "지뢰는 더 낮은 칸에 있습니다.\n",
      "남은 횟수: 2 \n",
      "\n",
      "0 ~ 6 사이의 지뢰를 찾아보세요:  3\n",
      "지뢰는 더 높은 칸에 있습니다.\n",
      "남은 횟수: 1 \n",
      "\n",
      "4 ~ 6 사이의 지뢰를 찾아보세요:  5\n",
      "지뢰는 더 높은 칸에 있습니다.\n",
      "남은 횟수: 0 \n",
      "\n",
      "펑~ 지뢰를 못 찾았습니다.\n"
     ]
    }
   ],
   "source": [
    "import random\n",
    "import math\n",
    "\n",
    "print('='*60)\n",
    "print('지뢰찾기게임 - 주어진 횟수 안에 지뢰를 찾으세요')\n",
    "print('='*60)\n",
    "\n",
    "start, end = 0,29\n",
    "minefield = list(range(start, end+1))\n",
    "minePos = random.randint(0, len(minefield))\n",
    "minefield[minePos] = 'MINE'\n",
    "numTrials = math.ceil(math.log(len(minefield),2))\n",
    "\n",
    "cntTrials = 0\n",
    "while cntTrials < numTrials:\n",
    "    print(start, '~', end, '사이의 지뢰를 찾아보세요: ', end=' ')\n",
    "    guessPos = int(input())\n",
    "    \n",
    "    cntTrials = cntTrials + 1\n",
    "    \n",
    "    if guessPos == minePos:\n",
    "        print(cntTrials, '번 만에 지뢰를 찾았습니다.')\n",
    "        minefield[minePos] = 'FLAG'\n",
    "        break\n",
    "    elif guessPos > minePos:\n",
    "        print('지뢰는 더 낮은 칸에 있습니다.')\n",
    "        end = guessPos - 1\n",
    "    else:\n",
    "        print('지뢰는 더 높은 칸에 있습니다.')\n",
    "        start = guessPos + 1\n",
    "    print('남은 횟수:', numTrials-cntTrials,'\\n')\n",
    "if minefield[minePos] != 'FLAG':\n",
    "    print('펑~ 지뢰를 못 찾았습니다.')"
   ]
  },
  {
   "cell_type": "markdown",
   "metadata": {},
   "source": [
    "### P2: 다음 지시에 따라 리스트를 생성하고 명령을 수행하는 과정을 제출하세요"
   ]
  },
  {
   "cell_type": "code",
   "execution_count": 9,
   "metadata": {},
   "outputs": [
    {
     "name": "stdout",
     "output_type": "stream",
     "text": [
      "['치킨', '피자', '삼겹살']\n"
     ]
    }
   ],
   "source": [
    "FavSongs = ['애국가', '맨정신', '비', '트로트가 싫어요', '깡']\n",
    "FavSingers = ['김필','십센치','치즈','BTS','체인스모커스']\n",
    "FavFoods = ['돈가스','치킨','피자','삼겹살','햄버거']\n",
    "\n",
    "MyFav = [FavSongs, FavSingers, FavFoods]\n",
    "\n",
    "del MyFav[0][2]\n",
    "\n",
    "MyFav[2].append('브레이브걸스')\n",
    "\n",
    "print(MyFav[2][1:4])"
   ]
  },
  {
   "cell_type": "markdown",
   "metadata": {},
   "source": [
    "### P3. 다음과 같은 실행결과가 나오도록 소스코드를 작성하시오 ."
   ]
  },
  {
   "cell_type": "code",
   "execution_count": 13,
   "metadata": {},
   "outputs": [
    {
     "name": "stdout",
     "output_type": "stream",
     "text": [
      "오늘의 패션 1 번 추천 조합입니다.\n",
      "yellow T-shirt\n",
      "red jeans\n",
      "blue tie\n",
      "\n",
      "오늘의 패션 2 번 추천 조합입니다.\n",
      "black T-shirt\n",
      "blue skirt\n",
      "yellow ring\n",
      "\n",
      "오늘의 패션 3 번 추천 조합입니다.\n",
      "red T-shirt\n",
      "pink jeans\n",
      "blue shoes\n",
      "\n"
     ]
    }
   ],
   "source": [
    "import random\n",
    "\n",
    "colors = ['red','pink','black','blue','yellow']\n",
    "top = ['T-shirt','Hoody','shirt','long sleeve']\n",
    "pants = ['skirt','jeans','legging']\n",
    "acc = ['tie','shoes','ring']\n",
    "\n",
    "cnt = 0\n",
    "while cnt < 3:\n",
    "    print('오늘의 패션', cnt+1,'번 추천 조합입니다.')\n",
    "    print(colors[random.randint(0,len(colors)-1)], top[random.randint(0, len(top)-1)])\n",
    "    print(colors[random.randint(0,len(colors)-1)], pants[random.randint(0, len(pants)-1)])\n",
    "    print(colors[random.randint(0,len(colors)-1)], acc[random.randint(0, len(acc)-1)])\n",
    "    print()\n",
    "    cnt = cnt + 1"
   ]
  },
  {
   "cell_type": "markdown",
   "metadata": {},
   "source": [
    "### P4. 리스트에서 최대값 최소 값 찾기"
   ]
  },
  {
   "cell_type": "code",
   "execution_count": 20,
   "metadata": {},
   "outputs": [
    {
     "name": "stdout",
     "output_type": "stream",
     "text": [
      "가장 큰 수 : 100\n",
      "가장 작은 수 : 15\n",
      "[23, 100, 37, 95, 57, 30, 49, 95, 45, 15, 66, 88, 95, 66, 71, 78, 63, 77, 63, 56]\n"
     ]
    }
   ],
   "source": [
    "import random\n",
    "\n",
    "cnt = 0\n",
    "myList = []\n",
    "smallest = 100\n",
    "biggest = 0\n",
    "while cnt < 20:\n",
    "    myList.append(random.randint(1,100))\n",
    "    if myList[cnt] > biggest:\n",
    "        biggest = myList[cnt]\n",
    "    if myList[cnt] < smallest:\n",
    "        smallest = myList[cnt]\n",
    "    cnt = cnt + 1\n",
    "    \n",
    "print('가장 큰 수 :',biggest)\n",
    "print('가장 작은 수 :',smallest)\n",
    "print(myList)"
   ]
  },
  {
   "cell_type": "markdown",
   "metadata": {},
   "source": [
    "### P5. 중복없는 로또번호 생성기"
   ]
  },
  {
   "cell_type": "markdown",
   "metadata": {},
   "source": [
    "#### P5-1."
   ]
  },
  {
   "cell_type": "code",
   "execution_count": 27,
   "metadata": {},
   "outputs": [
    {
     "name": "stdout",
     "output_type": "stream",
     "text": [
      "로또번호 : [12, 21, 7, 13, 11, 25]\n"
     ]
    }
   ],
   "source": [
    "import random\n",
    "\n",
    "myList = list(range(1,45))\n",
    "random.shuffle(myList)\n",
    "print('로또번호 :', myList[0:6])"
   ]
  },
  {
   "cell_type": "markdown",
   "metadata": {},
   "source": [
    "#### P5-2."
   ]
  },
  {
   "cell_type": "code",
   "execution_count": 32,
   "metadata": {},
   "outputs": [
    {
     "name": "stdout",
     "output_type": "stream",
     "text": [
      "로또번호 : 24 2 42 37 32 41 "
     ]
    }
   ],
   "source": [
    "import random\n",
    "\n",
    "myList = list(range(1,45))\n",
    "cnt = 0\n",
    "print('로또번호 :', end = ' ')\n",
    "while cnt < 6:\n",
    "    idx = random.randint(0, len(myList)-1)\n",
    "    print(myList[idx], end = ' ')\n",
    "    del myList[idx]\n",
    "    cnt = cnt + 1"
   ]
  },
  {
   "cell_type": "markdown",
   "metadata": {},
   "source": [
    "### P6. 다음 명령어의 사용법을 연습해보세요"
   ]
  },
  {
   "cell_type": "code",
   "execution_count": 43,
   "metadata": {},
   "outputs": [
    {
     "ename": "TypeError",
     "evalue": "extend() takes exactly one argument (0 given)",
     "output_type": "error",
     "traceback": [
      "\u001b[1;31m---------------------------------------------------------------------------\u001b[0m",
      "\u001b[1;31mTypeError\u001b[0m                                 Traceback (most recent call last)",
      "\u001b[1;32m<ipython-input-43-816605f3a9a1>\u001b[0m in \u001b[0;36m<module>\u001b[1;34m\u001b[0m\n\u001b[0;32m      7\u001b[0m \u001b[0mmyList\u001b[0m\u001b[1;33m.\u001b[0m\u001b[0mcount\u001b[0m\u001b[1;33m(\u001b[0m\u001b[1;36m30\u001b[0m\u001b[1;33m)\u001b[0m\u001b[1;33m\u001b[0m\u001b[1;33m\u001b[0m\u001b[0m\n\u001b[0;32m      8\u001b[0m \u001b[1;33m\u001b[0m\u001b[0m\n\u001b[1;32m----> 9\u001b[1;33m \u001b[0mmyList\u001b[0m\u001b[1;33m.\u001b[0m\u001b[0mextend\u001b[0m\u001b[1;33m(\u001b[0m\u001b[1;33m)\u001b[0m\u001b[1;33m\u001b[0m\u001b[1;33m\u001b[0m\u001b[0m\n\u001b[0m",
      "\u001b[1;31mTypeError\u001b[0m: extend() takes exactly one argument (0 given)"
     ]
    }
   ],
   "source": [
    "import random\n",
    "\n",
    "myList = list(range(1,10))\n",
    "\n",
    "random.sample(myList, 3)\n",
    "\n",
    "myList.count(30)"
   ]
  },
  {
   "cell_type": "code",
   "execution_count": null,
   "metadata": {},
   "outputs": [],
   "source": []
  }
 ],
 "metadata": {
  "kernelspec": {
   "display_name": "Python 3",
   "language": "python",
   "name": "python3"
  },
  "language_info": {
   "codemirror_mode": {
    "name": "ipython",
    "version": 3
   },
   "file_extension": ".py",
   "mimetype": "text/x-python",
   "name": "python",
   "nbconvert_exporter": "python",
   "pygments_lexer": "ipython3",
   "version": "3.7.4"
  }
 },
 "nbformat": 4,
 "nbformat_minor": 2
}
