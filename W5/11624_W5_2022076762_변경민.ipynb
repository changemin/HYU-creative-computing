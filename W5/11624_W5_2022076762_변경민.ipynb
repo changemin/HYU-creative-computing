{
 "cells": [
  {
   "cell_type": "markdown",
   "id": "14925487",
   "metadata": {},
   "source": [
    "# 11624_W5_2022076762_변경민"
   ]
  },
  {
   "cell_type": "markdown",
   "id": "16fa46f0",
   "metadata": {},
   "source": [
    "### P1. 다음 while 반복문의 실행결과를 예측해보고, 실행해보세요."
   ]
  },
  {
   "cell_type": "code",
   "execution_count": 7,
   "id": "5ceb0b73",
   "metadata": {},
   "outputs": [
    {
     "name": "stdout",
     "output_type": "stream",
     "text": [
      "programming\n"
     ]
    }
   ],
   "source": [
    "a = 10\n",
    "while a<5:\n",
    "    print('computer')\n",
    "    a = a + 1\n",
    "print('programming')"
   ]
  },
  {
   "cell_type": "code",
   "execution_count": 8,
   "id": "508fd661",
   "metadata": {},
   "outputs": [
    {
     "name": "stdout",
     "output_type": "stream",
     "text": [
      "s= 16 a= 9\n"
     ]
    }
   ],
   "source": [
    "a = 1\n",
    "s = 0\n",
    "while s < 10:\n",
    "    s= s + a\n",
    "    a = a + 2\n",
    "print('s=',s,'a=',a)"
   ]
  },
  {
   "cell_type": "code",
   "execution_count": 9,
   "id": "4f4f4cc7",
   "metadata": {},
   "outputs": [
    {
     "name": "stdout",
     "output_type": "stream",
     "text": [
      "s= 60\n"
     ]
    }
   ],
   "source": [
    "a = 'start'\n",
    "s = 0\n",
    "while a != 'end':\n",
    "    s = s + 10\n",
    "    if s > 50:\n",
    "        a = 'end'\n",
    "print('s=',s)"
   ]
  },
  {
   "cell_type": "markdown",
   "id": "1d1fa16e",
   "metadata": {},
   "source": [
    "### P2. 홀수와 짝수의 개수 구하기"
   ]
  },
  {
   "cell_type": "code",
   "execution_count": 12,
   "id": "3c395065",
   "metadata": {},
   "outputs": [
    {
     "name": "stdout",
     "output_type": "stream",
     "text": [
      "1 번째 생성된 수는  87 이고 홀수입니다.\n",
      "2 번째 생성된 수는  15 이고 홀수입니다.\n",
      "3 번째 생성된 수는  78 이고 짝수입니다.\n",
      "4 번째 생성된 수는  53 이고 홀수입니다.\n",
      "5 번째 생성된 수는  96 이고 짝수입니다.\n",
      "6 번째 생성된 수는  77 이고 홀수입니다.\n",
      "7 번째 생성된 수는  38 이고 짝수입니다.\n",
      "8 번째 생성된 수는  53 이고 홀수입니다.\n",
      "9 번째 생성된 수는  51 이고 홀수입니다.\n",
      "10 번째 생성된 수는  84 이고 짝수입니다.\n",
      "생성된 수 중 홀수는  6 개이고\n",
      "생성된 수 중 짝수는  4 개 입니다.\n"
     ]
    }
   ],
   "source": [
    "import random\n",
    "\n",
    "cnt = 0\n",
    "evenN = 0\n",
    "oddN = 0\n",
    "\n",
    "while cnt < 10:\n",
    "    n = random.randint(1, 100)\n",
    "    if n%2 == 0:\n",
    "        evenN = evenN + 1\n",
    "        print(cnt+1, '번째 생성된 수는 ', n,'이고 짝수입니다.' )\n",
    "    else:\n",
    "        oddN = oddN +1\n",
    "        print(cnt+1, '번째 생성된 수는 ', n,'이고 홀수입니다.' )\n",
    "    cnt = cnt + 1\n",
    "\n",
    "print('생성된 수 중 홀수는 ',oddN, '개이고')\n",
    "print('생성된 수 중 짝수는 ',evenN,'개 입니다.')"
   ]
  },
  {
   "cell_type": "markdown",
   "id": "4e07f752",
   "metadata": {},
   "source": [
    "### P3. 합과 평균 구하기"
   ]
  },
  {
   "cell_type": "code",
   "execution_count": 14,
   "id": "f3b3a027",
   "metadata": {},
   "outputs": [
    {
     "name": "stdout",
     "output_type": "stream",
     "text": [
      "정수 입력 : 30\n",
      "정수 입력 : 20\n",
      "정수 입력 : 50\n",
      "정수 입력 : 입력끝\n",
      "합계는  100 이고, 평균은  33.333333333333336 입니다.\n"
     ]
    }
   ],
   "source": [
    "userInput = ''\n",
    "s = 0\n",
    "cnt = 0\n",
    "while userInput != '입력끝':\n",
    "    userInput = input('정수 입력 : ')\n",
    "    if userInput != '입력끝':\n",
    "        s = s + int(userInput)\n",
    "        cnt = cnt + 1\n",
    "print('합계는 ', s, '이고, 평균은 ', s/cnt,'입니다.')"
   ]
  },
  {
   "cell_type": "markdown",
   "id": "8f5d6b65",
   "metadata": {},
   "source": [
    "### P4. 1초간 멈추었다가 출력하기"
   ]
  },
  {
   "cell_type": "code",
   "execution_count": 15,
   "id": "bf27d5b8",
   "metadata": {},
   "outputs": [
    {
     "name": "stdout",
     "output_type": "stream",
     "text": [
      "다음 문장은 거의 동시에 출력됩니다.\n",
      "다음 문장은 거의 동시에 출력됩니다.\n",
      "다음 문장은 거의 동시에 출력됩니다.\n",
      "다음 문장은 거의 동시에 출력됩니다.\n",
      "다음 문장은 거의 동시에 출력됩니다.\n",
      "\n",
      "다음 문장은 1초 뒤에 출력됩니다.\n",
      "다음 문장은 1초 뒤에 출력됩니다.\n",
      "다음 문장은 1초 뒤에 출력됩니다.\n",
      "다음 문장은 1초 뒤에 출력됩니다.\n",
      "다음 문장은 1초 뒤에 출력됩니다.\n"
     ]
    }
   ],
   "source": [
    "import time\n",
    "\n",
    "cnt = 0\n",
    "\n",
    "while cnt < 5:\n",
    "    print('다음 문장은 거의 동시에 출력됩니다.')\n",
    "    cnt = cnt + 1\n",
    "\n",
    "print()\n",
    "cnt = 0\n",
    "\n",
    "while cnt < 5:\n",
    "    print('다음 문장은 1초 뒤에 출력됩니다.')\n",
    "    time.sleep(1)\n",
    "    cnt = cnt + 1"
   ]
  },
  {
   "cell_type": "markdown",
   "id": "7ceb1bee",
   "metadata": {},
   "source": [
    "### P5. x 초 알람 만들기"
   ]
  },
  {
   "cell_type": "code",
   "execution_count": 17,
   "id": "309c78cb",
   "metadata": {},
   "outputs": [
    {
     "name": "stdout",
     "output_type": "stream",
     "text": [
      "원하시는 시간을 초단위로 입력해주세요: 5\n",
      "5 초 알람을 시작합니다.\n",
      "1 초 경과\n",
      "2 초 경과\n",
      "3 초 경과\n",
      "4 초 경과\n",
      "5 초 경과\n",
      "5 초가 경과하였습니다.\n"
     ]
    }
   ],
   "source": [
    "import time\n",
    "import winsound\n",
    "\n",
    "x = int(input('원하시는 시간을 초단위로 입력해주세요: '))\n",
    "print(x, '초 알람을 시작합니다.')\n",
    "sec = 0\n",
    "while sec < x:\n",
    "    time.sleep(1)\n",
    "    print(sec+1, '초 경과')\n",
    "    sec = sec + 1\n",
    "print(x,'초가 경과하였습니다.')\n",
    "cnt = 0\n",
    "while cnt < 10:\n",
    "    winsound.Beep(550, 250)\n",
    "    cnt = cnt + 1"
   ]
  },
  {
   "cell_type": "markdown",
   "id": "694c9424",
   "metadata": {},
   "source": [
    "### P6. 중복없는 로또번호 만들기"
   ]
  },
  {
   "cell_type": "code",
   "execution_count": 25,
   "id": "e77572b9",
   "metadata": {},
   "outputs": [
    {
     "name": "stdout",
     "output_type": "stream",
     "text": [
      "선택된 숫자는  15 29 6 5 입니다\n"
     ]
    }
   ],
   "source": [
    "import random\n",
    "\n",
    "n1 = random.randint(1, 30)\n",
    "n2 = random.randint(1, 30)\n",
    "n3 = random.randint(1, 30)\n",
    "n4 = random.randint(1, 30)\n",
    "\n",
    "while n2 == n1:\n",
    "    n2 = random.randint(1, 30)\n",
    "\n",
    "while n3 == n1 or n3 == n2:\n",
    "    n3 = random.randint(1, 30)\n",
    "\n",
    "while n4 == n1 or n4 == n2 or n4 == n3:\n",
    "    n4 = random.randint(1, 30)\n",
    "    \n",
    "print('선택된 숫자는 ',n1,n2,n3,n4,'입니다')"
   ]
  }
 ],
 "metadata": {
  "kernelspec": {
   "display_name": "Python 3",
   "language": "python",
   "name": "python3"
  },
  "language_info": {
   "codemirror_mode": {
    "name": "ipython",
    "version": 3
   },
   "file_extension": ".py",
   "mimetype": "text/x-python",
   "name": "python",
   "nbconvert_exporter": "python",
   "pygments_lexer": "ipython3",
   "version": "3.8.8"
  }
 },
 "nbformat": 4,
 "nbformat_minor": 5
}
