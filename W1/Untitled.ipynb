{
 "cells": [
  {
   "cell_type": "markdown",
   "id": "c28e3dee",
   "metadata": {},
   "source": [
    "<h1>11624_w1_2022076762_변경민</h1>"
   ]
  },
  {
   "cell_type": "code",
   "execution_count": 1,
   "id": "8186edbe",
   "metadata": {},
   "outputs": [
    {
     "name": "stdout",
     "output_type": "stream",
     "text": [
      "Hello Python\n"
     ]
    }
   ],
   "source": [
    "print('Hello Python')"
   ]
  },
  {
   "cell_type": "code",
   "execution_count": 2,
   "id": "3bd4a60b",
   "metadata": {},
   "outputs": [
    {
     "name": "stdout",
     "output_type": "stream",
     "text": [
      "Hello하냥아\n"
     ]
    }
   ],
   "source": [
    "print('Hello' + '하냥아')"
   ]
  }
 ],
 "metadata": {
  "kernelspec": {
   "display_name": "Python 3 (ipykernel)",
   "language": "python",
   "name": "python3"
  },
  "language_info": {
   "codemirror_mode": {
    "name": "ipython",
    "version": 3
   },
   "file_extension": ".py",
   "mimetype": "text/x-python",
   "name": "python",
   "nbconvert_exporter": "python",
   "pygments_lexer": "ipython3",
   "version": "3.9.7"
  }
 },
 "nbformat": 4,
 "nbformat_minor": 5
}
