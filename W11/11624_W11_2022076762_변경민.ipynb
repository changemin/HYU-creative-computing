{
 "cells": [
  {
   "cell_type": "markdown",
   "metadata": {},
   "source": [
    "# 11624_W11_2022076762_변경민"
   ]
  },
  {
   "cell_type": "markdown",
   "metadata": {},
   "source": [
    "### P1. 컴퓨팅 알고리즘 소개"
   ]
  },
  {
   "cell_type": "markdown",
   "metadata": {},
   "source": [
    "1. 냄비와 물, 라면을 준비합니다\n",
    "2. 냄비에 500ml의 물을 따르고, 가열합니다.\n",
    "3. 물이 끓어오르면 라면스프와 건더기스프를 넣습니다.\n",
    "4. 물이 다시 한번 끓어오르면 면을 넣습니다.\n",
    "5. 면이 익을때까지 기다립니다.\n",
    "6. 면이 모두 익으면 불을 끄고 라면을 아름답게 플레이팅 합니다."
   ]
  },
  {
   "cell_type": "markdown",
   "metadata": {},
   "source": [
    "### P2. 실행시간 측정하기"
   ]
  },
  {
   "cell_type": "code",
   "execution_count": 4,
   "metadata": {},
   "outputs": [
    {
     "name": "stdout",
     "output_type": "stream",
     "text": [
      "5자리 숫자 곱셈 1000번 시간: 1.7951970100402832\n",
      "5자리 숫자 곱셈 1번 평균시간: 0.0017951970100402832\n"
     ]
    }
   ],
   "source": [
    "import time, random\n",
    "\n",
    "start = time.time()\n",
    "\n",
    "for i in range(10**6):\n",
    "    a = random.randint(10000,99999)\n",
    "    b = random.randint(10000,99999)\n",
    "    test = a*b\n",
    "    \n",
    "end = time.time()\n",
    "\n",
    "print('5자리 숫자 곱셈 1000번 시간:', end-start)\n",
    "print('5자리 숫자 곱셈 1번 평균시간:', (end-start)/1000)"
   ]
  },
  {
   "cell_type": "markdown",
   "metadata": {},
   "source": [
    "### P3. 선택정렬 구현과 삽입 정렬 구현"
   ]
  },
  {
   "cell_type": "markdown",
   "metadata": {},
   "source": [
    "#### 선택정렬"
   ]
  },
  {
   "cell_type": "code",
   "execution_count": 6,
   "metadata": {},
   "outputs": [
    {
     "name": "stdout",
     "output_type": "stream",
     "text": [
      "정렬전: [1, 5, 8, 0, 9, 7, 3, 2, 6, 4]\n",
      "  1 번째 정렬 후: [0, 5, 8, 1, 9, 7, 3, 2, 6, 4]\n",
      "  2 번째 정렬 후: [0, 1, 8, 5, 9, 7, 3, 2, 6, 4]\n",
      "  3 번째 정렬 후: [0, 1, 2, 5, 9, 7, 3, 8, 6, 4]\n",
      "  4 번째 정렬 후: [0, 1, 2, 3, 9, 7, 5, 8, 6, 4]\n",
      "  5 번째 정렬 후: [0, 1, 2, 3, 4, 7, 5, 8, 6, 9]\n",
      "  6 번째 정렬 후: [0, 1, 2, 3, 4, 5, 7, 8, 6, 9]\n",
      "  7 번째 정렬 후: [0, 1, 2, 3, 4, 5, 6, 8, 7, 9]\n",
      "  8 번째 정렬 후: [0, 1, 2, 3, 4, 5, 6, 7, 8, 9]\n",
      "  9 번째 정렬 후: [0, 1, 2, 3, 4, 5, 6, 7, 8, 9]\n",
      "정렬 후 [0, 1, 2, 3, 4, 5, 6, 7, 8, 9]\n",
      "정렬에 걸린 시간(s):  0.0009965896606445312\n"
     ]
    }
   ],
   "source": [
    "import random\n",
    "import time\n",
    "\n",
    "listA = list(range(0,10))\n",
    "\n",
    "random.shuffle(listA)\n",
    "print('정렬전:',listA)\n",
    "\n",
    "start = time.time()\n",
    "\n",
    "for i in range(len(listA)-1):\n",
    "    min_idx = i\n",
    "    for j in range(i+1, len(listA)):\n",
    "        if listA[min_idx] > listA[j]:\n",
    "            min_idx = j\n",
    "    tmp = listA[i]\n",
    "    listA[i] = listA[min_idx]\n",
    "    listA[min_idx] = tmp\n",
    "    \n",
    "    print(' ', i+1, '번째 정렬 후:', listA)\n",
    "    \n",
    "print('정렬 후', listA)\n",
    "print('정렬에 걸린 시간(s): ', time.time()-start)"
   ]
  },
  {
   "cell_type": "markdown",
   "metadata": {},
   "source": [
    "#### 삽입정렬"
   ]
  },
  {
   "cell_type": "code",
   "execution_count": 7,
   "metadata": {},
   "outputs": [
    {
     "name": "stdout",
     "output_type": "stream",
     "text": [
      "정렬전: [2, 0, 9, 7, 4, 6, 5, 8, 3, 1]\n",
      "  1 번째 정렬 후: [2, 0, 9, 7, 4, 6, 5, 8, 3, 1]\n",
      "  2 번째 정렬 후: [0, 2, 9, 7, 4, 6, 5, 8, 3, 1]\n",
      "  3 번째 정렬 후: [0, 2, 9, 7, 4, 6, 5, 8, 3, 1]\n",
      "  4 번째 정렬 후: [0, 2, 7, 9, 4, 6, 5, 8, 3, 1]\n",
      "  5 번째 정렬 후: [0, 2, 4, 7, 9, 6, 5, 8, 3, 1]\n",
      "  6 번째 정렬 후: [0, 2, 4, 6, 7, 9, 5, 8, 3, 1]\n",
      "  7 번째 정렬 후: [0, 2, 4, 5, 6, 7, 9, 8, 3, 1]\n",
      "  8 번째 정렬 후: [0, 2, 4, 5, 6, 7, 8, 9, 3, 1]\n",
      "  9 번째 정렬 후: [0, 2, 3, 4, 5, 6, 7, 8, 9, 1]\n",
      "정렬 후 [0, 2, 3, 4, 5, 6, 7, 8, 9, 1]\n",
      "정렬에 걸린 시간(s):  0.0009765625\n"
     ]
    }
   ],
   "source": [
    "import random\n",
    "import time\n",
    "\n",
    "listA = list(range(0,10))\n",
    "random.shuffle(listA)\n",
    "print('정렬전:',listA)\n",
    "\n",
    "start = time.time()\n",
    "\n",
    "for i in range(len(listA)-1):\n",
    "    key = listA[i]\n",
    "    j = i - 1\n",
    "    while j >= 0 and listA[j] > key:\n",
    "        listA[j+1] = listA[j]\n",
    "        j = j - 1\n",
    "    listA[j+1] = key\n",
    "    print(' ', i+1, '번째 정렬 후:', listA)\n",
    "    \n",
    "print('정렬 후', listA)\n",
    "print('정렬에 걸린 시간(s): ', time.time()-start)"
   ]
  },
  {
   "cell_type": "markdown",
   "metadata": {},
   "source": [
    "### P4. 수행시간 비교"
   ]
  },
  {
   "cell_type": "markdown",
   "metadata": {},
   "source": [
    "|n|100|500|1,000|5,000|10,000|20,000|40,000|80,000|\n",
    "|-|-|-|-|-|-|-|-|-|\n",
    "| 선택정렬 |0.0|0.005982160568237305|0.022996187210083008|0.5764529705047607|2.306830644607544|9.31777024269104|38.9889018535614|158.52316427230835|\n",
    "| 삽입정렬 |0.0|0.005979776382446289|0.029848098754882812|0.6896762847900391|2.8675949573516846|11.327659368515015|45.46667790412903|176.66691255569458|"
   ]
  },
  {
   "cell_type": "code",
   "execution_count": 11,
   "metadata": {},
   "outputs": [
    {
     "name": "stdout",
     "output_type": "stream",
     "text": [
      "100 개 리스트 정렬에 걸린 시간(s):  0.0\n",
      "500 개 리스트 정렬에 걸린 시간(s):  0.005982160568237305\n",
      "1000 개 리스트 정렬에 걸린 시간(s):  0.022996187210083008\n",
      "5000 개 리스트 정렬에 걸린 시간(s):  0.5764529705047607\n",
      "10000 개 리스트 정렬에 걸린 시간(s):  2.306830644607544\n",
      "20000 개 리스트 정렬에 걸린 시간(s):  9.31777024269104\n",
      "40000 개 리스트 정렬에 걸린 시간(s):  38.9889018535614\n",
      "80000 개 리스트 정렬에 걸린 시간(s):  158.52316427230835\n"
     ]
    }
   ],
   "source": [
    "import random\n",
    "import time\n",
    "def measureTime(n):\n",
    "    listA = list(range(0,n))\n",
    "\n",
    "    random.shuffle(listA)\n",
    "#     print('정렬전:',listA)\n",
    "\n",
    "    start = time.time()\n",
    "\n",
    "    for i in range(len(listA)-1):\n",
    "        min_idx = i\n",
    "        for j in range(i+1, len(listA)):\n",
    "            if listA[min_idx] > listA[j]:\n",
    "                min_idx = j\n",
    "        tmp = listA[i]\n",
    "        listA[i] = listA[min_idx]\n",
    "        listA[min_idx] = tmp\n",
    "    print(n, '개 리스트 정렬에 걸린 시간(s): ', time.time()-start)\n",
    "\n",
    "    \n",
    "measureTime(100)\n",
    "measureTime(500)\n",
    "measureTime(1000)\n",
    "measureTime(5000)\n",
    "measureTime(10000)\n",
    "measureTime(20000)\n",
    "measureTime(40000)\n",
    "measureTime(80000)"
   ]
  },
  {
   "cell_type": "code",
   "execution_count": 13,
   "metadata": {},
   "outputs": [
    {
     "name": "stdout",
     "output_type": "stream",
     "text": [
      "100 개 리스트 정렬에 걸린 시간(s):  0.0\n",
      "500 개 리스트 정렬에 걸린 시간(s):  0.005979776382446289\n",
      "1000 개 리스트 정렬에 걸린 시간(s):  0.029848098754882812\n",
      "5000 개 리스트 정렬에 걸린 시간(s):  0.6896762847900391\n",
      "10000 개 리스트 정렬에 걸린 시간(s):  2.8675949573516846\n",
      "20000 개 리스트 정렬에 걸린 시간(s):  11.327659368515015\n",
      "40000 개 리스트 정렬에 걸린 시간(s):  45.46667790412903\n",
      "80000 개 리스트 정렬에 걸린 시간(s):  176.66691255569458\n"
     ]
    }
   ],
   "source": [
    "import random\n",
    "import time\n",
    "\n",
    "def measureTime(n):\n",
    "    listA = list(range(0,n))\n",
    "    random.shuffle(listA)\n",
    "\n",
    "    start = time.time()\n",
    "\n",
    "    for i in range(len(listA)-1):\n",
    "        key = listA[i]\n",
    "        j = i - 1\n",
    "        while j >= 0 and listA[j] > key:\n",
    "            listA[j+1] = listA[j]\n",
    "            j = j - 1\n",
    "        listA[j+1] = key\n",
    "\n",
    "    print(n, '개 리스트 정렬에 걸린 시간(s): ', time.time()-start)\n",
    "\n",
    "measureTime(100)\n",
    "measureTime(500)\n",
    "measureTime(1000)\n",
    "measureTime(5000)\n",
    "measureTime(10000)\n",
    "measureTime(20000)\n",
    "measureTime(40000)\n",
    "measureTime(80000)"
   ]
  }
 ],
 "metadata": {
  "kernelspec": {
   "display_name": "Python 3 (ipykernel)",
   "language": "python",
   "name": "python3"
  },
  "language_info": {
   "codemirror_mode": {
    "name": "ipython",
    "version": 3
   },
   "file_extension": ".py",
   "mimetype": "text/x-python",
   "name": "python",
   "nbconvert_exporter": "python",
   "pygments_lexer": "ipython3",
   "version": "3.9.7"
  }
 },
 "nbformat": 4,
 "nbformat_minor": 2
}
