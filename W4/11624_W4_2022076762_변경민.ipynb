{
 "cells": [
  {
   "cell_type": "markdown",
   "id": "28b8fb96",
   "metadata": {},
   "source": [
    "# 11624_W4_2022076762_변경민"
   ]
  },
  {
   "cell_type": "markdown",
   "id": "1de2f78c",
   "metadata": {},
   "source": [
    "### P1. 다음과 같이 실행되는 프로그램을 작성하세요."
   ]
  },
  {
   "cell_type": "code",
   "execution_count": 2,
   "id": "c9e7222a",
   "metadata": {},
   "outputs": [
    {
     "name": "stdout",
     "output_type": "stream",
     "text": [
      "숫자를 입력하세요.500\n",
      "1부터  500 까지에서 무작위로 선택된 값은 131 입니다\n"
     ]
    }
   ],
   "source": [
    "import random\n",
    "\n",
    "n = int(input('숫자를 입력하세요.'))\n",
    "print('1부터 ',n,'까지에서 무작위로 선택된 값은', random.randint(1,n),'입니다')"
   ]
  },
  {
   "cell_type": "markdown",
   "id": "4812ffbf",
   "metadata": {},
   "source": [
    "### P2. 다음과 같이 실행되는 프로그램을 작성하세요."
   ]
  },
  {
   "cell_type": "code",
   "execution_count": 10,
   "id": "af16ef17",
   "metadata": {},
   "outputs": [
    {
     "name": "stdout",
     "output_type": "stream",
     "text": [
      "1~5 사이의 숫자를 입력해주세요. 4\n",
      "틀렸습니다.\n",
      "정답:  3 추측:  4\n"
     ]
    }
   ],
   "source": [
    "import random\n",
    "\n",
    "n = int(input('1~5 사이의 숫자를 입력해주세요. '))\n",
    "rand = random.randint(1,5)\n",
    "\n",
    "if(n == rand):\n",
    "    print('맞혔습니다.')\n",
    "else:\n",
    "    print('틀렸습니다.')\n",
    "    \n",
    "print('정답: ', rand, '추측: ', n)"
   ]
  },
  {
   "cell_type": "markdown",
   "id": "50d21f8e",
   "metadata": {},
   "source": [
    "### P3. ID와 PW를 입력받아 로그인 성공여부를 출력하는 프로그램을 작성하세요."
   ]
  },
  {
   "cell_type": "code",
   "execution_count": 11,
   "id": "5b5f9ffb",
   "metadata": {},
   "outputs": [
    {
     "name": "stdout",
     "output_type": "stream",
     "text": [
      "아이디를 입력해주세요: python\n",
      "비밀번호를 입력해주세요: hello\n",
      "비밀번호 오류입니다.\n"
     ]
    }
   ],
   "source": [
    "user_id = 'python'\n",
    "user_pw = 'fun'\n",
    "\n",
    "input_id = input('아이디를 입력해주세요: ')\n",
    "input_pw = input('비밀번호를 입력해주세요: ')\n",
    "\n",
    "if(input_id == 'python'):\n",
    "    if(input_pw == 'fun'):\n",
    "        print('로그인 성공')\n",
    "    else:\n",
    "        print('비밀번호 오류입니다.')\n",
    "else:\n",
    "    print('아이디 오류입니다.')"
   ]
  },
  {
   "cell_type": "markdown",
   "id": "f6138bd7",
   "metadata": {},
   "source": [
    "### P4. 다음과 같이 작동하는 프로그램을 작성하세요."
   ]
  },
  {
   "cell_type": "code",
   "execution_count": 18,
   "id": "74b97777",
   "metadata": {},
   "outputs": [
    {
     "name": "stdout",
     "output_type": "stream",
     "text": [
      "첫번째 두번째 세번째\n",
      "28 62 3\n",
      "가장 큰 수는:  62\n",
      "가장 작은 수는:  3\n"
     ]
    }
   ],
   "source": [
    "import random\n",
    "\n",
    "a = random.randint(1, 100)\n",
    "b = random.randint(1, 100)\n",
    "c = random.randint(1, 100)\n",
    "\n",
    "print('첫번째 두번째 세번째')\n",
    "print(a,b,c)\n",
    "\n",
    "if (a > b and a > c):\n",
    "    print('가장 큰 수는: ', a)\n",
    "elif (b > a and b > c):\n",
    "    print('가장 큰 수는: ', b)\n",
    "else:\n",
    "    print('가장 큰 수는: ', c)\n",
    "    \n",
    "if (a < b and a < c):\n",
    "    print('가장 작은 수는: ', a)\n",
    "elif (b < a and b < c):\n",
    "    print('가장 작은 수는: ', b)\n",
    "else:\n",
    "    print('가장 작은 수는: ', c)"
   ]
  },
  {
   "cell_type": "markdown",
   "id": "9082fec4",
   "metadata": {},
   "source": [
    "### P5. 참가자 3명이 가위바위보 게임을 하는 프로그램을 작성하세요."
   ]
  },
  {
   "cell_type": "code",
   "execution_count": 48,
   "id": "2430f9b8",
   "metadata": {},
   "outputs": [
    {
     "name": "stdout",
     "output_type": "stream",
     "text": [
      "참가자1:  바위\n",
      "참가자2:  가위\n",
      "참가자3:  가위\n",
      "승자: 참가자1\n"
     ]
    }
   ],
   "source": [
    "import random\n",
    "\n",
    "a = random.randint(1, 3)\n",
    "b = random.randint(1, 3)\n",
    "c = random.randint(1, 3)\n",
    "a_str = ''\n",
    "b_str = ''\n",
    "c_str = ''\n",
    "\n",
    "if (a == 1):\n",
    "    a_str = '가위'\n",
    "elif (a == 2):\n",
    "    a_str = '바위'\n",
    "else :\n",
    "    a_str = '보'\n",
    "    \n",
    "if (b == 1):\n",
    "    b_str = '가위'\n",
    "elif (b == 2):\n",
    "    b_str = '바위'\n",
    "else :\n",
    "    b_str = '보'\n",
    "    \n",
    "if (c == 1):\n",
    "    c_str = '가위'\n",
    "elif (c == 2):\n",
    "    c_str = '바위'\n",
    "else :\n",
    "    c_str = '보'\n",
    "\n",
    "print('참가자1: ', a_str)\n",
    "print('참가자2: ', b_str)\n",
    "print('참가자3: ', c_str)\n",
    "\n",
    "\n",
    "if (a == b and b == c) or (a != b and b != c and a != c):\n",
    "    print('비겼다.')\n",
    "    \n",
    "if (a == b and b != c):\n",
    "    if (a_str == '바위' and c_str == '가위'):\n",
    "        print('승자: 참가자1 참가자2')\n",
    "    elif (a_str == '보' and c_str == '바위'):\n",
    "        print('승자: 참가자1 참가자2')\n",
    "    elif (a_str == '가위' and c_str == '보'):\n",
    "        print('승자: 참가자1 참가자2')\n",
    "    elif(a_str == '가위' and c_str == '바위'):\n",
    "        print('승자 : 참가자3')\n",
    "    elif(a_str == '바위' and c_str == '보'):\n",
    "        print('승자 : 참가자3')\n",
    "    elif(a_str == '보' and c_str == '가위'):\n",
    "        print('승자 : 참가자3')\n",
    "        \n",
    "if (a == c and b != c):\n",
    "    if (a_str == '바위' and b_str == '가위'):\n",
    "        print('승자: 참가자1 참가자3')\n",
    "    elif (a_str == '보' and b_str == '바위'):\n",
    "        print('승자: 참가자1 참가자3')\n",
    "    elif (a_str == '가위' and b_str == '보'):\n",
    "        print('승자: 참가자1 참가자3')\n",
    "    elif(a_str == '가위' and b_str == '바위'):\n",
    "        print('승자 : 참가자2')\n",
    "    elif(a_str == '바위' and b_str == '보'):\n",
    "        print('승자 : 참가자2')\n",
    "    elif(a_str == '보' and b_str == '가위'):\n",
    "        print('승자 : 참가자2')\n",
    "        \n",
    "if (b == c and b != a):\n",
    "    if (a_str == '바위' and b_str == '가위'):\n",
    "        print('승자: 참가자1')\n",
    "    elif (a_str == '보' and b_str == '바위'):\n",
    "        print('승자: 참가자1')\n",
    "    elif (a_str == '가위' and b_str == '보'):\n",
    "        print('승자: 참가자1')\n",
    "    elif(a_str == '가위' and b_str == '바위'):\n",
    "        print('승자 : 참가자2 참가자3')\n",
    "    elif(a_str == '바위' and b_str == '보'):\n",
    "        print('승자 : 참가자2 참가자3')\n",
    "    elif(a_str == '보' and b_str == '가위'):\n",
    "        print('승자 : 참가자2 참가자3')"
   ]
  }
 ],
 "metadata": {
  "kernelspec": {
   "display_name": "Python 3 (ipykernel)",
   "language": "python",
   "name": "python3"
  },
  "language_info": {
   "codemirror_mode": {
    "name": "ipython",
    "version": 3
   },
   "file_extension": ".py",
   "mimetype": "text/x-python",
   "name": "python",
   "nbconvert_exporter": "python",
   "pygments_lexer": "ipython3",
   "version": "3.9.7"
  }
 },
 "nbformat": 4,
 "nbformat_minor": 5
}
