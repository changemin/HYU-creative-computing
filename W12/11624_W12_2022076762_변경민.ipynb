{
 "cells": [
  {
   "cell_type": "markdown",
   "id": "ba6e3c41",
   "metadata": {},
   "source": [
    "# 11624_W12_2022076762_변경민"
   ]
  },
  {
   "cell_type": "markdown",
   "id": "a06240ae",
   "metadata": {},
   "source": [
    "## P1. merge 함수 구현"
   ]
  },
  {
   "cell_type": "code",
   "execution_count": 33,
   "id": "18f2842d",
   "metadata": {},
   "outputs": [
    {
     "name": "stdout",
     "output_type": "stream",
     "text": [
      "[3, 8, 4, 6, 7, 1, 9, 2, 5, 0]\n",
      "merged --> [0, 1, 2, 3, 4, 5, 6, 7, 8, 9]\n",
      "[0, 1, 2, 3, 4, 5, 6, 7, 8, 9]\n"
     ]
    }
   ],
   "source": [
    "import random\n",
    "import time\n",
    "\n",
    "l = list(range(10))\n",
    "random.shuffle(l)\n",
    "print(l)\n",
    "\n",
    "def merge(left, right):\n",
    "    merged = list()\n",
    "    while( len(left)> 0) or (len(right) > 0):\n",
    "        if len(right) <= 0:\n",
    "            print('merged -->', merged+left)\n",
    "            return merged + left\n",
    "        elif len(left) <= 0:\n",
    "            print('merged -->', merged+right)\n",
    "            return merged + right\n",
    "        else:\n",
    "            if left[0] <= right[0]:\n",
    "                merged.append(left[0])\n",
    "                del left[0]\n",
    "            else:\n",
    "                merged.append(right[0])\n",
    "                del right[0]\n",
    "    print('merged -->', merged)\n",
    "    return merged\n",
    "\n",
    "def selectSort(l):\n",
    "    for i in range(len(l)-1):\n",
    "        min_idx = i\n",
    "        for j in range(i+1, len(l)):\n",
    "            if l[min_idx] > l[j]:\n",
    "                min_idx = j\n",
    "        tmp = l[i]\n",
    "        l[i] = l[min_idx]\n",
    "        l[min_idx] = tmp\n",
    "    return l\n",
    "\n",
    "print(merge(selectSort(l[:5]), selectSort(l[5:])))"
   ]
  },
  {
   "cell_type": "markdown",
   "id": "1371f7c0",
   "metadata": {},
   "source": [
    "## P2. 합병정렬 구현"
   ]
  },
  {
   "cell_type": "code",
   "execution_count": 14,
   "id": "09e384cc",
   "metadata": {},
   "outputs": [
    {
     "name": "stdout",
     "output_type": "stream",
     "text": [
      "[7, 4, 8, 0, 5, 9, 2, 6, 3, 1]\n",
      "merged --> [4, 7]\n",
      "merged --> [0, 5]\n",
      "merged --> [0, 5, 8]\n",
      "merged --> [0, 4, 5, 7, 8]\n",
      "merged --> [2, 9]\n",
      "merged --> [1, 3]\n",
      "merged --> [1, 3, 6]\n",
      "merged --> [1, 2, 3, 6, 9]\n",
      "merged --> [0, 1, 2, 3, 4, 5, 6, 7, 8, 9]\n",
      "[0, 1, 2, 3, 4, 5, 6, 7, 8, 9]\n",
      "정렬에 걸린시간(s): 0.0005080699920654297\n"
     ]
    }
   ],
   "source": [
    "import random\n",
    "import time\n",
    "\n",
    "l = list(range(10))\n",
    "random.shuffle(l)\n",
    "print(l)\n",
    "\n",
    "def mergeSort(l):\n",
    "    if len(l) <= 1:\n",
    "        return l\n",
    "    mid = len(l)//2\n",
    "    left = mergeSort(l[:mid])\n",
    "    right = mergeSort(l[mid:])\n",
    "    return merge(left, right)\n",
    "\n",
    "def merge(left, right):\n",
    "    merged = list()\n",
    "    while( len(left)> 0) or (len(right) > 0):\n",
    "        if len(right) <= 0:\n",
    "            print('merged -->', merged+left)\n",
    "            return merged + left\n",
    "        elif len(left) <= 0:\n",
    "            print('merged -->', merged+right)\n",
    "            return merged + right\n",
    "        else:\n",
    "            if left[0] <= right[0]:\n",
    "                merged.append(left[0])\n",
    "                del left[0]\n",
    "            else:\n",
    "                merged.append(right[0])\n",
    "                del right[0]\n",
    "    print('merged -->', merged)\n",
    "    return merged\n",
    "\n",
    "start = time.time()\n",
    "sorted_l = mergeSort(l)\n",
    "print(sorted_l)\n",
    "print('정렬에 걸린시간(s):', time.time()-start)"
   ]
  },
  {
   "cell_type": "markdown",
   "id": "64f14fbc",
   "metadata": {},
   "source": [
    "## P3. 수행시간 비교"
   ]
  },
  {
   "cell_type": "markdown",
   "id": "d170d97c",
   "metadata": {},
   "source": [
    "|n|100|500|1,000|5,000|10,000|20,000|40,000|80,000|\n",
    "|-|-|-|-|-|-|-|-|-|\n",
    "| 선택정렬 |0.0|0.0059|0.0229|0.5764|2.3068|9.3177|38.9889|158.5231|\n",
    "| 삽입정렬 |0.0|0.0059|0.02984|0.6896|2.8675|11.3276|45.4666|176.6669|\n",
    "| 합병정렬|0.0|0.0023|0.0044|0.0286|0.0533|0.1168|0.2958|0.8976|"
   ]
  },
  {
   "cell_type": "code",
   "execution_count": 10,
   "id": "9782f402",
   "metadata": {
    "scrolled": true
   },
   "outputs": [
    {
     "name": "stdout",
     "output_type": "stream",
     "text": [
      "100 개 리스트 정렬에 걸린시간(s): 0.000621795654296875\n",
      "500 개 리스트 정렬에 걸린시간(s): 0.0023386478424072266\n",
      "1000 개 리스트 정렬에 걸린시간(s): 0.004401206970214844\n",
      "5000 개 리스트 정렬에 걸린시간(s): 0.028678178787231445\n",
      "10000 개 리스트 정렬에 걸린시간(s): 0.05339479446411133\n",
      "20000 개 리스트 정렬에 걸린시간(s): 0.11685609817504883\n",
      "40000 개 리스트 정렬에 걸린시간(s): 0.2958838939666748\n",
      "80000 개 리스트 정렬에 걸린시간(s): 0.8976931571960449\n"
     ]
    }
   ],
   "source": [
    "import random\n",
    "import time\n",
    "\n",
    "def sortNList(n):\n",
    "    l = list(range(n))\n",
    "    random.shuffle(l)\n",
    "    start = time.time()\n",
    "    sorted_l = mergeSort(l)\n",
    "    print(n,'개 리스트 정렬에 걸린시간(s):', time.time()-start)\n",
    "\n",
    "def mergeSort(l):\n",
    "    if len(l) <= 1:\n",
    "        return l\n",
    "    mid = len(l)//2\n",
    "    left = mergeSort(l[:mid])\n",
    "    right = mergeSort(l[mid:])\n",
    "    return merge(left, right)\n",
    "\n",
    "def merge(left, right):\n",
    "    merged = list()\n",
    "    while( len(left)> 0) or (len(right) > 0):\n",
    "        if len(right) <= 0:\n",
    "            return merged + left\n",
    "        elif len(left) <= 0:\n",
    "            return merged + right\n",
    "        else:\n",
    "            if left[0] <= right[0]:\n",
    "                merged.append(left[0])\n",
    "                del left[0]\n",
    "            else:\n",
    "                merged.append(right[0])\n",
    "                del right[0]\n",
    "    return merged\n",
    "\n",
    "sortNList(100)\n",
    "sortNList(500)\n",
    "sortNList(1000)\n",
    "sortNList(5000)\n",
    "sortNList(10000)\n",
    "sortNList(20000)\n",
    "sortNList(40000)\n",
    "sortNList(80000)"
   ]
  },
  {
   "cell_type": "code",
   "execution_count": null,
   "id": "10a97640",
   "metadata": {},
   "outputs": [],
   "source": []
  }
 ],
 "metadata": {
  "kernelspec": {
   "display_name": "Python 3 (ipykernel)",
   "language": "python",
   "name": "python3"
  },
  "language_info": {
   "codemirror_mode": {
    "name": "ipython",
    "version": 3
   },
   "file_extension": ".py",
   "mimetype": "text/x-python",
   "name": "python",
   "nbconvert_exporter": "python",
   "pygments_lexer": "ipython3",
   "version": "3.9.7"
  }
 },
 "nbformat": 4,
 "nbformat_minor": 5
}
