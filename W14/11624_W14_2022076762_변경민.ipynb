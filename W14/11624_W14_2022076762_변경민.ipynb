{
 "cells": [
  {
   "cell_type": "markdown",
   "id": "80f4228a",
   "metadata": {},
   "source": [
    "# 11624_W14_2022076762_변경민"
   ]
  },
  {
   "cell_type": "markdown",
   "id": "eccfcc82",
   "metadata": {},
   "source": [
    "## P1. 파일 입출력(1)"
   ]
  },
  {
   "cell_type": "code",
   "execution_count": 2,
   "id": "43c6ddba",
   "metadata": {},
   "outputs": [
    {
     "name": "stdout",
     "output_type": "stream",
     "text": [
      "안녕하세요.\n",
      "\n",
      "['파이썬입니다.\\n', '좋은 하루되세요.']\n"
     ]
    }
   ],
   "source": [
    "outFile = open('test.txt', 'w')\n",
    "\n",
    "msg = '''안녕하세요.\n",
    "파이썬입니다.\n",
    "좋은 하루되세요.'''\n",
    "\n",
    "outFile.write(msg)\n",
    "outFile.close()\n",
    "\n",
    "inFile = open('test.txt', 'r')\n",
    "msg1 = inFile.readline()\n",
    "print(msg1)\n",
    "msg2 = inFile.readlines()\n",
    "print(msg2)\n",
    "inFile.close()"
   ]
  },
  {
   "cell_type": "markdown",
   "id": "b8409c3b",
   "metadata": {},
   "source": [
    "## P1. 파일 입출력(2)"
   ]
  },
  {
   "cell_type": "code",
   "execution_count": 8,
   "id": "221e819b",
   "metadata": {},
   "outputs": [
    {
     "name": "stdout",
     "output_type": "stream",
     "text": [
      "74\n"
     ]
    }
   ],
   "source": [
    "outFile = open('test.txt', 'w')\n",
    "for i in [10, 30, 5, 20, 9]:\n",
    "    outFile.write(str(i) + '\\n')\n",
    "outFile.close()\n",
    "\n",
    "inFile = open('test.txt', 'r')\n",
    "sumV = 0\n",
    "for n in inFile:\n",
    "    sumV = sumV + int(n)\n",
    "print(sumV)\n",
    "inFile.close()"
   ]
  },
  {
   "cell_type": "markdown",
   "id": "5ab23c8c",
   "metadata": {},
   "source": [
    "## P2. 영한사전 프로그램"
   ]
  },
  {
   "cell_type": "code",
   "execution_count": 20,
   "id": "19f5a64b",
   "metadata": {},
   "outputs": [
    {
     "name": "stdout",
     "output_type": "stream",
     "text": [
      "영어 단어를 입력하세요: always\n",
      "'언제나'이라는 뜻을 가진 단어입니다.\n"
     ]
    }
   ],
   "source": [
    "dicFile = open('dictionary.txt', 'w')\n",
    "\n",
    "content = '''better;더나은\n",
    "tomorrow;내일\n",
    "always;언제나\n",
    "best;최고의\n",
    "you;당신'''\n",
    "\n",
    "dicFile.write(content)\n",
    "dicFile.close()\n",
    "\n",
    "userInput = input('영어 단어를 입력하세요: ')\n",
    "\n",
    "readFile = open('dictionary.txt', 'r')\n",
    "exist = False\n",
    "for i in readFile:\n",
    "    tmp = i.split(';')\n",
    "    if tmp[0] == userInput:\n",
    "        exist = True\n",
    "        print(\"'\"+tmp[1][:-1]+\"'\"+\"이라는 뜻을 가진 단어입니다.\")\n",
    "        \n",
    "if not exist:\n",
    "    print('단어가 없습니다.')"
   ]
  },
  {
   "cell_type": "markdown",
   "id": "01fd3d40",
   "metadata": {},
   "source": [
    "## P3. 성적처리"
   ]
  },
  {
   "cell_type": "code",
   "execution_count": 40,
   "id": "692b0eeb",
   "metadata": {},
   "outputs": [
    {
     "name": "stdout",
     "output_type": "stream",
     "text": [
      "공원희 학생의 평균 점수: 24.75\n",
      "이소희 학생의 평균 점수: 24.5\n",
      "나영희 학생의 평균 점수: 24.25\n",
      "김우진 학생의 평균 점수: 23.75\n",
      "한현주 학생의 평균 점수: 23.75\n",
      "신승찬 학생의 평균 점수: 23.5\n",
      "기소영 학생의 평균 점수: 23.0\n",
      "이진영 학생의 평균 점수: 22.5\n",
      "박누리 학생의 평균 점수: 21.75\n",
      "김진 학생의 평균 점수: 21.25\n",
      "한진희 학생의 평균 점수: 21.0\n",
      "박한별 학생의 평균 점수: 21.0\n",
      "한솔 학생의 평균 점수: 20.5\n",
      "김주영 학생의 평균 점수: 19.25\n",
      "김소라 학생의 평균 점수: 18.75\n",
      "김나래 학생의 평균 점수: 17.0\n",
      "이영진 학생의 평균 점수: 16.75\n",
      "이한열 학생의 평균 점수: 14.25\n",
      "천수진 학생의 평균 점수: 16.25\n",
      "안정환 학생의 평균 점수: 11.75\n",
      "총 학생 수는 20 명 입니다.\n"
     ]
    }
   ],
   "source": [
    "scoreFile = open('scorefile_out.txt','w')\n",
    "\n",
    "content = '''이름\\t중간\\t기말\\t과제\\t출석\\t총점\\t등수\\t등급\n",
    "공원희\\t29\\t30\\t30\\t10\n",
    "이소희\\t30\\t28\\t30\\t10\n",
    "나영희\\t30\\t28\\t30\\t9\n",
    "김우진\\t25\\t30\\t30\\t10\n",
    "한현주\\t28\\t27\\t30\\t10\n",
    "신승찬\\t29\\t25\\t30\\t10\n",
    "기소영\\t24\\t30\\t30\\t8\n",
    "이진영\\t28\\t25\\t28\\t9\n",
    "박누리\\t25\\t25\\t29\\t8\n",
    "김진\\t30\\t20\\t25\\t10\n",
    "한진희\\t20\\t29\\t26\\t9\n",
    "박한별\\t20\\t25\\t30\\t9\n",
    "한솔\\t22\\t20\\t30\\t10\n",
    "김주영\\t18\\t25\\t25\\t9\n",
    "김소라\\t10\\t25\\t30\\t10\n",
    "김나래\\t10\\t20\\t28\\t10\n",
    "이영진\\t12\\t20\\t25\\t10\n",
    "이한열\\t9\\t18\\t20\\t10\n",
    "천수진\\t15\\t20\\t20\\t10\n",
    "안정환\\t8\\t10\\t20\\t9\n",
    "'''\n",
    "\n",
    "scoreFile.write(content)\n",
    "scoreFile.close()\n",
    "\n",
    "scoreFile = open('scorefile_out.txt', 'r')\n",
    "cnt = 0\n",
    "newContent = '이름\\t중간\\t기말\\t과제\\t출석\\t총점\\t등수\\t등급\\n'\n",
    "scoreFile.readline()\n",
    "for i in scoreFile:\n",
    "    cnt = cnt + 1\n",
    "    data = i.split('\\t')\n",
    "    totalScore = int(data[1]) + int(data[2]) + int(data[3]) + int(data[4])\n",
    "    grade = ''\n",
    "    if cnt >= 15:\n",
    "        grade = 'C'\n",
    "    elif cnt >= 7:\n",
    "        grade = 'B'\n",
    "    else:\n",
    "        grade = 'A'\n",
    "    i = i[:-1] + '\\t' + str(totalScore) + '\\t' + str(cnt)\n",
    "    newContent = newContent + i + '\\t' + grade + '\\n'\n",
    "    print(data[0]+' 학생의 평균 점수: '+ str(totalScore/4))\n",
    "    \n",
    "scoreFile.close()\n",
    "scoreFile = open('scorefile_out.txt', 'w')\n",
    "scoreFile.write(newContent)\n",
    "scoreFile.close()\n",
    "print('총 학생 수는', cnt,'명 입니다.')"
   ]
  }
 ],
 "metadata": {
  "kernelspec": {
   "display_name": "Python 3 (ipykernel)",
   "language": "python",
   "name": "python3"
  },
  "language_info": {
   "codemirror_mode": {
    "name": "ipython",
    "version": 3
   },
   "file_extension": ".py",
   "mimetype": "text/x-python",
   "name": "python",
   "nbconvert_exporter": "python",
   "pygments_lexer": "ipython3",
   "version": "3.9.7"
  }
 },
 "nbformat": 4,
 "nbformat_minor": 5
}
