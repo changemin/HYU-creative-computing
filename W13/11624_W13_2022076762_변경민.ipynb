{
 "cells": [
  {
   "cell_type": "markdown",
   "id": "989fc0b1",
   "metadata": {},
   "source": [
    "# 11624_W13_2022076762_변경민"
   ]
  },
  {
   "cell_type": "markdown",
   "id": "bba03eff",
   "metadata": {},
   "source": [
    "## P1. qSort 구현하기"
   ]
  },
  {
   "cell_type": "code",
   "execution_count": 1,
   "id": "7b652188",
   "metadata": {},
   "outputs": [
    {
     "name": "stdout",
     "output_type": "stream",
     "text": [
      "정렬에 걸린 시간(s) 4.475986003875732\n"
     ]
    }
   ],
   "source": [
    "# quick sort\n",
    "\n",
    "import random, time\n",
    "listLength = 1000000\n",
    "\n",
    "def getList(listLength):\n",
    "    listA = list(range(0, listLength))\n",
    "    random.shuffle(listA)\n",
    "    return listA\n",
    "\n",
    "def qSort(listA, start, end):\n",
    "    if start < end:\n",
    "        pvt, listA = partition(listA, start, end)\n",
    "        qSort(listA, start, pvt-1)\n",
    "        qSort(listA, pvt+1, end)\n",
    "    return listA\n",
    "\n",
    "def partition(listA, start, end):\n",
    "    pvt = listA[end]\n",
    "    pvtIdx = end\n",
    "    \n",
    "    while start < end:\n",
    "        if listA[start] <= pvt:\n",
    "            start = start + 1\n",
    "        else:\n",
    "            listA[start], listA[end-1] = listA[end-1], listA[start]\n",
    "            end = end - 1\n",
    "    \n",
    "    listA[pvtIdx], listA[start] = listA[start], listA[pvtIdx]\n",
    "    \n",
    "    return start, listA\n",
    "\n",
    "unsortedList = getList(listLength)\n",
    "start = time.time()\n",
    "sortedList = qSort(unsortedList, 0, len(unsortedList)-1)\n",
    "print('정렬에 걸린 시간(s)', time.time() - start)"
   ]
  },
  {
   "cell_type": "markdown",
   "id": "0b41abfe",
   "metadata": {},
   "source": [
    "## P2. 빠른 정렬 수행해보기"
   ]
  },
  {
   "cell_type": "markdown",
   "id": "2250e3d2",
   "metadata": {},
   "source": [
    "|n|1,000|10,000|40,000|80,000|160,000|320,000|640,000|\n",
    "|-|-|-|-|-|-|-|-|\n",
    "| 선택정렬 | 0.044| 3.765| 64.205| 252.151 |x|x|x|\n",
    "| 삽입정렬 | 0.042| 3.818| 57.59| 228.781 |x|x|x|\n",
    "| 합병정렬 | 0.005| 0.063| 0.303| 0.896| 3.018| 10.956| 44.793|\n",
    "| 퀵정렬 | 0.002| 0.027| 0.124| 0.279| 0.569| 1.311| 2.662|"
   ]
  },
  {
   "cell_type": "code",
   "execution_count": 14,
   "id": "18131fd7",
   "metadata": {},
   "outputs": [
    {
     "name": "stdout",
     "output_type": "stream",
     "text": [
      "| 0.044| 3.765| 64.205| 252.151"
     ]
    }
   ],
   "source": [
    "# selection sort\n",
    "import random\n",
    "import time\n",
    "def measureTime(n):\n",
    "    listA = list(range(0,n))\n",
    "\n",
    "    random.shuffle(listA)\n",
    "#     print('정렬전:',listA)\n",
    "\n",
    "    start = time.time()\n",
    "\n",
    "    for i in range(len(listA)-1):\n",
    "        min_idx = i\n",
    "        for j in range(i+1, len(listA)):\n",
    "            if listA[min_idx] > listA[j]:\n",
    "                min_idx = j\n",
    "        tmp = listA[i]\n",
    "        listA[i] = listA[min_idx]\n",
    "        listA[min_idx] = tmp\n",
    "    print('|', round(time.time()-start,3), end = '')\n",
    "    \n",
    "measureTime(1000)\n",
    "measureTime(10000)\n",
    "measureTime(40000)\n",
    "measureTime(80000)"
   ]
  },
  {
   "cell_type": "code",
   "execution_count": 16,
   "id": "da9265e2",
   "metadata": {},
   "outputs": [
    {
     "name": "stdout",
     "output_type": "stream",
     "text": [
      "| 0.042| 3.818| 57.59| 228.781"
     ]
    }
   ],
   "source": [
    "# insertion Sort\n",
    "import random\n",
    "import time\n",
    "\n",
    "def measureTime(n):\n",
    "    listA = list(range(0,n))\n",
    "    random.shuffle(listA)\n",
    "\n",
    "    start = time.time()\n",
    "\n",
    "    for i in range(len(listA)-1):\n",
    "        key = listA[i]\n",
    "        j = i - 1\n",
    "        while j >= 0 and listA[j] > key:\n",
    "            listA[j+1] = listA[j]\n",
    "            j = j - 1\n",
    "        listA[j+1] = key\n",
    "\n",
    "    print('|', round(time.time()-start,3), end = '')\n",
    "\n",
    "measureTime(1000)\n",
    "measureTime(10000)\n",
    "measureTime(40000)\n",
    "measureTime(80000)"
   ]
  },
  {
   "cell_type": "code",
   "execution_count": 8,
   "id": "dcc8e4e4",
   "metadata": {},
   "outputs": [
    {
     "name": "stdout",
     "output_type": "stream",
     "text": [
      "| 0.005| 0.063| 0.303| 0.896| 3.018| 10.956| 44.793"
     ]
    }
   ],
   "source": [
    "# mergeSort\n",
    "import random\n",
    "import time\n",
    "\n",
    "def sortNList(n):\n",
    "    l = list(range(n))\n",
    "    random.shuffle(l)\n",
    "    start = time.time()\n",
    "    sorted_l = mergeSort(l)\n",
    "    print('|', round(time.time()-start,3), end = '')\n",
    "\n",
    "def mergeSort(l):\n",
    "    if len(l) <= 1:\n",
    "        return l\n",
    "    mid = len(l)//2\n",
    "    left = mergeSort(l[:mid])\n",
    "    right = mergeSort(l[mid:])\n",
    "    return merge(left, right)\n",
    "\n",
    "def merge(left, right):\n",
    "    merged = list()\n",
    "    while( len(left)> 0) or (len(right) > 0):\n",
    "        if len(right) <= 0:\n",
    "            return merged + left\n",
    "        elif len(left) <= 0:\n",
    "            return merged + right\n",
    "        else:\n",
    "            if left[0] <= right[0]:\n",
    "                merged.append(left[0])\n",
    "                del left[0]\n",
    "            else:\n",
    "                merged.append(right[0])\n",
    "                del right[0]\n",
    "    return merged\n",
    "\n",
    "sortNList(1000)\n",
    "sortNList(10000)\n",
    "sortNList(40000)\n",
    "sortNList(80000)\n",
    "sortNList(160000)\n",
    "sortNList(320000)\n",
    "sortNList(640000)"
   ]
  },
  {
   "cell_type": "code",
   "execution_count": 15,
   "id": "f83871e7",
   "metadata": {},
   "outputs": [
    {
     "name": "stdout",
     "output_type": "stream",
     "text": [
      "| 0.002| 0.027| 0.124| 0.279| 0.569| 1.311| 2.662"
     ]
    }
   ],
   "source": [
    "# quickSort\n",
    "\n",
    "import random, time\n",
    "\n",
    "def getList(listLength):\n",
    "    listA = list(range(0, listLength))\n",
    "    random.shuffle(listA)\n",
    "    return listA\n",
    "\n",
    "def qSort(listA, start, end):\n",
    "    if start < end:\n",
    "        pvt, listA = partition(listA, start, end)\n",
    "        qSort(listA, start, pvt-1)\n",
    "        qSort(listA, pvt+1, end)\n",
    "    return listA\n",
    "\n",
    "def partition(listA, start, end):\n",
    "    pvt = listA[end]\n",
    "    pvtIdx = end\n",
    "    \n",
    "    while start < end:\n",
    "        if listA[start] <= pvt:\n",
    "            start = start + 1\n",
    "        else:\n",
    "            listA[start], listA[end-1] = listA[end-1], listA[start]\n",
    "            end = end - 1\n",
    "    \n",
    "    listA[pvtIdx], listA[start] = listA[start], listA[pvtIdx]\n",
    "    \n",
    "    return start, listA\n",
    "\n",
    "def sortNList(listLength):\n",
    "    unsortedList = getList(listLength)\n",
    "    start = time.time()\n",
    "    sortedList = qSort(unsortedList, 0, len(unsortedList)-1)\n",
    "    print('|', round(time.time()-start,3), end = '')\n",
    "\n",
    "sortNList(1000)\n",
    "sortNList(10000)\n",
    "sortNList(40000)\n",
    "sortNList(80000)\n",
    "sortNList(160000)\n",
    "sortNList(320000)\n",
    "sortNList(640000)"
   ]
  },
  {
   "cell_type": "markdown",
   "id": "f46b759a",
   "metadata": {},
   "source": [
    "## P3. 계수 정렬 (Counting sort)"
   ]
  },
  {
   "cell_type": "code",
   "execution_count": 55,
   "id": "05d40ed2",
   "metadata": {},
   "outputs": [
    {
     "name": "stdout",
     "output_type": "stream",
     "text": [
      "[2, 2, 2, 2, 2, 2, 2, 2, 2, 2, 2, 2, 2, 2, 2, 2, 2, 2, 2, 2, 2, 2, 2, 2, 2, 2, 2, 2, 2, 2, 2, 2, 2, 2, 2, 2, 2, 2, 2, 2, 2, 2, 2, 2, 2, 2, 2, 2, 2, 2, 2, 2, 2, 2, 2, 2, 2, 2, 2, 2, 2, 2, 2, 2, 2, 2, 2, 2, 2, 2, 2, 2, 2, 2, 2, 2, 2, 2, 2, 2, 2, 2, 2, 2, 2, 2, 2, 2, 2, 2, 2, 2, 2, 2, 2, 2, 2, 2, 2, 2, 29, 29, 29, 29, 29, 29, 29, 29, 29, 29, 29, 29, 29, 29, 29, 29, 29, 29, 29, 29, 29, 29, 29, 29, 29, 29, 29, 29, 29, 29, 29, 29, 29, 29, 29, 29, 29, 29, 29, 29, 29, 29, 29, 29, 29, 29, 29, 29, 29, 29, 29, 29, 29, 29, 29, 29, 29, 29, 29, 29, 29, 29, 29, 29, 29, 29, 29, 29, 29, 29, 29, 29, 29, 29, 29, 29, 29, 29, 29, 29, 29, 29, 29, 29, 29, 29, 29, 29, 29, 29, 29, 29, 29, 29, 29, 29, 29, 29, 29, 29, 32, 32, 32, 32, 32, 32, 32, 32, 32, 32, 32, 32, 32, 32, 32, 32, 32, 32, 32, 32, 32, 32, 32, 32, 32, 32, 32, 32, 32, 32, 32, 32, 32, 32, 32, 32, 32, 32, 32, 32, 32, 32, 32, 32, 32, 32, 32, 32, 32, 32, 32, 32, 32, 32, 32, 32, 32, 32, 32, 32, 32, 32, 32, 32, 32, 32, 32, 32, 32, 32, 32, 32, 32, 32, 32, 32, 32, 32, 32, 32, 32, 32, 32, 32, 32, 32, 32, 32, 32, 32, 32, 32, 32, 32, 32, 32, 32, 32, 32, 32, 48, 48, 48, 48, 48, 48, 48, 48, 48, 48, 48, 48, 48, 48, 48, 48, 48, 48, 48, 48, 48, 48, 48, 48, 48, 48, 48, 48, 48, 48, 48, 48, 48, 48, 48, 48, 48, 48, 48, 48, 48, 48, 48, 48, 48, 48, 48, 48, 48, 48, 48, 48, 48, 48, 48, 48, 48, 48, 48, 48, 48, 48, 48, 48, 48, 48, 48, 48, 48, 48, 48, 48, 48, 48, 48, 48, 48, 48, 48, 48, 48, 48, 48, 48, 48, 48, 48, 48, 48, 48, 48, 48, 48, 48, 48, 48, 48, 48, 48, 48, 50, 50, 50, 50, 50, 50, 50, 50, 50, 50, 50, 50, 50, 50, 50, 50, 50, 50, 50, 50, 50, 50, 50, 50, 50, 50, 50, 50, 50, 50, 50, 50, 50, 50, 50, 50, 50, 50, 50, 50, 50, 50, 50, 50, 50, 50, 50, 50, 50, 50, 50, 50, 50, 50, 50, 50, 50, 50, 50, 50, 50, 50, 50, 50, 50, 50, 50, 50, 50, 50, 50, 50, 50, 50, 50, 50, 50, 50, 50, 50, 50, 50, 50, 50, 50, 50, 50, 50, 50, 50, 50, 50, 50, 50, 50, 50, 50, 50, 50, 50, 51, 51, 51, 51, 51, 51, 51, 51, 51, 51, 51, 51, 51, 51, 51, 51, 51, 51, 51, 51, 51, 51, 51, 51, 51, 51, 51, 51, 51, 51, 51, 51, 51, 51, 51, 51, 51, 51, 51, 51, 51, 51, 51, 51, 51, 51, 51, 51, 51, 51, 51, 51, 51, 51, 51, 51, 51, 51, 51, 51, 51, 51, 51, 51, 51, 51, 51, 51, 51, 51, 51, 51, 51, 51, 51, 51, 51, 51, 51, 51, 51, 51, 51, 51, 51, 51, 51, 51, 51, 51, 51, 51, 51, 51, 51, 51, 51, 51, 51, 51, 52, 52, 52, 52, 52, 52, 52, 52, 52, 52, 52, 52, 52, 52, 52, 52, 52, 52, 52, 52, 52, 52, 52, 52, 52, 52, 52, 52, 52, 52, 52, 52, 52, 52, 52, 52, 52, 52, 52, 52, 52, 52, 52, 52, 52, 52, 52, 52, 52, 52, 52, 52, 52, 52, 52, 52, 52, 52, 52, 52, 52, 52, 52, 52, 52, 52, 52, 52, 52, 52, 52, 52, 52, 52, 52, 52, 52, 52, 52, 52, 52, 52, 52, 52, 52, 52, 52, 52, 52, 52, 52, 52, 52, 52, 52, 52, 52, 52, 52, 52, 70, 70, 70, 70, 70, 70, 70, 70, 70, 70, 70, 70, 70, 70, 70, 70, 70, 70, 70, 70, 70, 70, 70, 70, 70, 70, 70, 70, 70, 70, 70, 70, 70, 70, 70, 70, 70, 70, 70, 70, 70, 70, 70, 70, 70, 70, 70, 70, 70, 70, 70, 70, 70, 70, 70, 70, 70, 70, 70, 70, 70, 70, 70, 70, 70, 70, 70, 70, 70, 70, 70, 70, 70, 70, 70, 70, 70, 70, 70, 70, 70, 70, 70, 70, 70, 70, 70, 70, 70, 70, 70, 70, 70, 70, 70, 70, 70, 70, 70, 70, 80, 80, 80, 80, 80, 80, 80, 80, 80, 80, 80, 80, 80, 80, 80, 80, 80, 80, 80, 80, 80, 80, 80, 80, 80, 80, 80, 80, 80, 80, 80, 80, 80, 80, 80, 80, 80, 80, 80, 80, 80, 80, 80, 80, 80, 80, 80, 80, 80, 80, 80, 80, 80, 80, 80, 80, 80, 80, 80, 80, 80, 80, 80, 80, 80, 80, 80, 80, 80, 80, 80, 80, 80, 80, 80, 80, 80, 80, 80, 80, 80, 80, 80, 80, 80, 80, 80, 80, 80, 80, 80, 80, 80, 80, 80, 80, 80, 80, 80, 80, 89, 89, 89, 89, 89, 89, 89, 89, 89, 89, 89, 89, 89, 89, 89, 89, 89, 89, 89, 89, 89, 89, 89, 89, 89, 89, 89, 89, 89, 89, 89, 89, 89, 89, 89, 89, 89, 89, 89, 89, 89, 89, 89, 89, 89, 89, 89, 89, 89, 89, 89, 89, 89, 89, 89, 89, 89, 89, 89, 89, 89, 89, 89, 89, 89, 89, 89, 89, 89, 89, 89, 89, 89, 89, 89, 89, 89, 89, 89, 89, 89, 89, 89, 89, 89, 89, 89, 89, 89, 89, 89, 89, 89, 89, 89, 89, 89, 89, 89, 89]\n"
     ]
    }
   ],
   "source": [
    "#countSort\n",
    "import random\n",
    "\n",
    "def getRandomList():\n",
    "    l = list(range(100))\n",
    "    return random.sample(l, 10)\n",
    "\n",
    "def getMixedRandomList(l):\n",
    "    random.shuffle(l)\n",
    "    return l\n",
    "\n",
    "unsortedList = getMixedRandomList(getRandomList()*100)\n",
    "countList = [0]*100\n",
    "sortedList = []\n",
    "\n",
    "n = 0\n",
    "while n < len(unsortedList):\n",
    "    countList[unsortedList[n]] = countList[unsortedList[n]] + 1\n",
    "    n = n + 1\n",
    "    \n",
    "n = 0\n",
    "while n < len(unsortedList):\n",
    "    while n < len(countList) and countList[n] > 0:\n",
    "        sortedList.append(n)\n",
    "        countList[n] = countList[n] - 1\n",
    "    n = n + 1\n",
    "\n",
    "print(sortedList)"
   ]
  }
 ],
 "metadata": {
  "kernelspec": {
   "display_name": "Python 3 (ipykernel)",
   "language": "python",
   "name": "python3"
  },
  "language_info": {
   "codemirror_mode": {
    "name": "ipython",
    "version": 3
   },
   "file_extension": ".py",
   "mimetype": "text/x-python",
   "name": "python",
   "nbconvert_exporter": "python",
   "pygments_lexer": "ipython3",
   "version": "3.9.7"
  }
 },
 "nbformat": 4,
 "nbformat_minor": 5
}
