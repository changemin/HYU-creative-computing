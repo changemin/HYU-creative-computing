{
 "cells": [
  {
   "cell_type": "markdown",
   "id": "6354e68d",
   "metadata": {},
   "source": [
    "# 11624_W9_2022076762_변경민"
   ]
  },
  {
   "cell_type": "markdown",
   "id": "3cf90ccb",
   "metadata": {},
   "source": [
    "### P1-1 range( )를 리스트로 바꾸어 동일한 결과를 출력하는 프로그램으로 작성하세요.\n"
   ]
  },
  {
   "cell_type": "code",
   "execution_count": 2,
   "id": "8d5fddda",
   "metadata": {},
   "outputs": [
    {
     "name": "stdout",
     "output_type": "stream",
     "text": [
      "단을 입력하세요 : 2\n",
      "2 x 1 = 2\n",
      "2 x 2 = 4\n",
      "2 x 3 = 6\n",
      "2 x 4 = 8\n",
      "2 x 5 = 10\n",
      "2 x 6 = 12\n",
      "2 x 7 = 14\n",
      "2 x 8 = 16\n",
      "2 x 9 = 18\n"
     ]
    }
   ],
   "source": [
    "gugu = int(input('단을 입력하세요 : '))\n",
    "\n",
    "myList = list(range(1,10))\n",
    "\n",
    "for num in myList:\n",
    "    print(gugu, 'x', num, '=', gugu*num)"
   ]
  },
  {
   "cell_type": "markdown",
   "id": "8552641e",
   "metadata": {},
   "source": [
    "### P1-2. range( )를 문자열로 바꾸어 동일한 결과를 출력하는 프로그램으로 작성하세요."
   ]
  },
  {
   "cell_type": "code",
   "execution_count": 4,
   "id": "2f42124e",
   "metadata": {},
   "outputs": [
    {
     "name": "stdout",
     "output_type": "stream",
     "text": [
      "단을 입력하세요 : 2\n",
      "2 x 1 = 2\n",
      "2 x 2 = 4\n",
      "2 x 3 = 6\n",
      "2 x 4 = 8\n",
      "2 x 5 = 10\n",
      "2 x 6 = 12\n",
      "2 x 7 = 14\n",
      "2 x 8 = 16\n",
      "2 x 9 = 18\n"
     ]
    }
   ],
   "source": [
    "gugu = int(input('단을 입력하세요 : '))\n",
    "\n",
    "for num in '123456789':\n",
    "    print(gugu, 'x', num, '=', gugu*int(num))"
   ]
  },
  {
   "cell_type": "markdown",
   "id": "9b68c089",
   "metadata": {},
   "source": [
    "### P2. 다음 소스코드의 실행결과를 예측해보고 실제 실행결과와 비교해보세요"
   ]
  },
  {
   "cell_type": "code",
   "execution_count": 5,
   "id": "668d7732",
   "metadata": {},
   "outputs": [
    {
     "name": "stdout",
     "output_type": "stream",
     "text": [
      "1 번째 문자는 H 입니다.\n",
      "2 번째 문자는 a 입니다.\n",
      "3 번째 문자는 n 입니다.\n",
      "4 번째 문자는 y 입니다.\n",
      "5 번째 문자는 a 입니다.\n",
      "6 번째 문자는 n 입니다.\n",
      "7 번째 문자는 g 입니다.\n",
      "총 7 개의 문자를 출력하였습니다.\n"
     ]
    }
   ],
   "source": [
    "cnt = 0\n",
    "for txt in 'Hanyang':\n",
    "    cnt = cnt + 1\n",
    "    print(cnt, '번째 문자는', txt, '입니다.')\n",
    "    \n",
    "print('총', cnt, '개의 문자를 출력하였습니다.')"
   ]
  },
  {
   "cell_type": "markdown",
   "id": "b7ea3e0c",
   "metadata": {},
   "source": [
    "### P3. 우측 프로그램은 주어진 문자열 txt에서 ‘a’가 몇 개인지를 출력하는 프로그램이다.이를 응용하여 LMS 게시판에 있는 python.txt 파일에 저장된 문자열을 이용하여 다음을 구하세요"
   ]
  },
  {
   "cell_type": "code",
   "execution_count": 36,
   "id": "58d09ba1",
   "metadata": {},
   "outputs": [
    {
     "name": "stdout",
     "output_type": "stream",
     "text": [
      "총 알파벳의 개수는  2720 입니다\n",
      "a 는 193 개 있고, 비율은 7.095588235294118 %입니다\n",
      "b 는 30 개 있고, 비율은 1.1029411764705883 %입니다\n",
      "c 는 78 개 있고, 비율은 2.8676470588235294 %입니다\n",
      "d 는 83 개 있고, 비율은 3.051470588235294 %입니다\n",
      "e 는 283 개 있고, 비율은 10.404411764705882 %입니다\n",
      "f 는 52 개 있고, 비율은 1.911764705882353 %입니다\n",
      "g 는 68 개 있고, 비율은 2.5 %입니다\n",
      "h 는 100 개 있고, 비율은 3.676470588235294 %입니다\n",
      "i 는 170 개 있고, 비율은 6.25 %입니다\n",
      "j 는 3 개 있고, 비율은 0.11029411764705882 %입니다\n",
      "k 는 17 개 있고, 비율은 0.625 %입니다\n",
      "l 는 108 개 있고, 비율은 3.9705882352941178 %입니다\n",
      "m 는 61 개 있고, 비율은 2.2426470588235294 %입니다\n",
      "n 는 201 개 있고, 비율은 7.389705882352941 %입니다\n",
      "o 는 232 개 있고, 비율은 8.529411764705882 %입니다\n",
      "p 는 86 개 있고, 비율은 3.161764705882353 %입니다\n",
      "q 는 2 개 있고, 비율은 0.07352941176470588 %입니다\n",
      "r 는 178 개 있고, 비율은 6.544117647058823 %입니다\n",
      "s 는 146 개 있고, 비율은 5.367647058823529 %입니다\n",
      "t 는 230 개 있고, 비율은 8.455882352941176 %입니다\n",
      "u 는 82 개 있고, 비율은 3.014705882352941 %입니다\n",
      "v 는 26 개 있고, 비율은 0.9558823529411765 %입니다\n",
      "w 는 33 개 있고, 비율은 1.213235294117647 %입니다\n",
      "x 는 1 개 있고, 비율은 0.03676470588235294 %입니다\n",
      "y 는 57 개 있고, 비율은 2.0955882352941178 %입니다\n",
      "z 는 2 개 있고, 비율은 0.07352941176470588 %입니다\n"
     ]
    }
   ],
   "source": [
    "txt = 'As the backbone to many Meta Services ranging from Instagram to its AI and data infrastructure, Python is very important to Meta. PyTorch is built on Python, accelerating the path from ML research and prototyping to production within Meta and across the open source ML ecosystem. Cinder is Metas performance-oriented version of Python that allows Instagram to run at global scale. Pyre is a performant type-checker used by thousands of Python developers in Meta. To support the Python ecosystem, we are excited to announce that Meta has made a $300,000 Visionary level sponsorship of the Python Software Foundation (PSF) that will provide critical support to the PSF and fund a second year of the successful Developer-in-Residence program. Meta is also committed to long-term investment in Python’s performance, by upstreaming improvements from Cinder, and making it more broadly available. The Developer-in-Residence program was launched in 2021, dedicating a full-time role to CPython. Python is a powerful and popular open-source language, used by millions of people around the world, in applications ranging from basic programming tutorials to literal rocket science. This is made possible by the nature of Open Source. The Developer-in-Residence program was established to provide full-time support to volunteers working on Python, tackling problems that are best solved by a dedicated role. Łukasz Langa is the inaugural Developer-in-Residence. A seasoned Python core developer and release manager for Python 3.8 and 3.9, in the first year of the program he is using his unique position to make progress on key projects that are impractical to complete with volunteer time, like chipping away at the backlog of pull requests and completing the migration of bugs.python.org to GitHub Issues, as well as mentoring new core developers. Meta’s funding of a second year of the Developer-in-Residence program allows crucial continuity and stability. Knowing the role is funded for a second year with direction from the Steering Council and support from the PSF, can take a farther looking view to plan ahead, invest in setting up the foundation for long-term projects, and build on the lessons of the inaugural year. The PSF is thrilled that thanks to Meta’s generosity, we will be able to continue this successful program, which will grow and deepen its impact on the future of CPython and the Python community in the second year. Meta’s donation will also provide substantial support to the PSF and our core programs, including maintaining and supporting PyPI.org, our grants program reaching Pythonista projects around the world, PyCon US bringing together the Python community, stewardship of Python intellectual property, and foundational infrastructure for hosting the language and new Python releases. We are proud to recognize Meta as a Visionary Sponsor of our work, helping to make the full range of our programs and the Python ecosystem sustainable in the long term. The PSF and everything we do would not be possible without the participation of sponsors like Meta. We are deeply grateful for their investment, which is part of building the foundation that will enable the PSF and Python to thrive for years to come.'\n",
    "sample = 'abcdefghijklmnopqrstuvwxyz'\n",
    "alphabet = list(range(1,27))\n",
    "for i in range(0,26):\n",
    "    alphabet[i] = 0\n",
    "    \n",
    "totalCnt = 0\n",
    "cnt =  0\n",
    "\n",
    "for char in txt:\n",
    "    cnt = 0\n",
    "    if char != ' ':\n",
    "        totalCnt += 1\n",
    "    for alpha in sample:\n",
    "        if alpha == char:\n",
    "            alphabet[cnt] = alphabet[cnt]+ 1\n",
    "        cnt = cnt + 1\n",
    "\n",
    "print('총 알파벳의 개수는 ',totalCnt, '입니다')\n",
    "for i in range(0,26):\n",
    "    print(sample[i],'는',alphabet[i],'개 있고, 비율은', alphabet[i]*100/totalCnt, '%입니다')\n"
   ]
  },
  {
   "cell_type": "markdown",
   "id": "4cbf4bbd",
   "metadata": {},
   "source": [
    "### P4. 다음은 아이디(ID)를 만드는 규칙이다. 입력받은 아이디가 규칙에 맞는지 검사하는 프로그램을 작성하세요."
   ]
  },
  {
   "cell_type": "code",
   "execution_count": 44,
   "id": "76f843d9",
   "metadata": {},
   "outputs": [
    {
     "name": "stdout",
     "output_type": "stream",
     "text": [
      "생성할 아이디를 입력하세요: Qusrudals511\n",
      "생성규칙에 맞지 않습니다.\n"
     ]
    }
   ],
   "source": [
    "userId = input('생성할 아이디를 입력하세요: ')\n",
    "alphabetSample = 'abcdefghijklmnopqrstuvwxyz'\n",
    "numberSample = '0123456789'\n",
    "totalLength = 0\n",
    "alphabetCnt = 0\n",
    "numberCnt = 0\n",
    "isContainNumber = True\n",
    "isStartWithEnglish = True\n",
    "isContainOtherText = True\n",
    "isRightLength = True\n",
    "for i in userId:\n",
    "    totalLength = totalLength + 1\n",
    "    \n",
    "for char in userId:\n",
    "    if char in alphabetSample:\n",
    "        alphabetCnt = alphabetCnt + 1\n",
    "    if char in numberSample:\n",
    "        numberCnt = numberCnt + 1\n",
    "\n",
    "if (totalLength < 10 and totalLength > 16):\n",
    "    isRightLength = False\n",
    "if numberCnt == 0:\n",
    "    isContainNumber = False\n",
    "if not(userId[0] in alphabetSample):\n",
    "    isStartWithEnglish = False\n",
    "if alphabetCnt + numberCnt != totalLength:\n",
    "    isContainOtherText = False\n",
    "\n",
    "if isRightLength and isContainOtherText and isStartWithEnglish and isContainNumber:\n",
    "    print('아이디가 생성되었습니다.')\n",
    "\n",
    "else:\n",
    "    print('생성규칙에 맞지 않습니다.')"
   ]
  },
  {
   "cell_type": "markdown",
   "id": "491db4bc",
   "metadata": {},
   "source": [
    "### P5. 369 게임하기"
   ]
  },
  {
   "cell_type": "code",
   "execution_count": 18,
   "id": "fbb214c2",
   "metadata": {},
   "outputs": [
    {
     "name": "stdout",
     "output_type": "stream",
     "text": [
      "1 ---> 1\n",
      "2 ---> 2\n",
      "3 ---> 짝\n",
      "4 ---> 4\n",
      "5 ---> 5\n",
      "6 ---> 짝\n",
      "7 ---> 7\n",
      "8 ---> 8\n",
      "9 ---> 짝\n",
      "10 ---> 10\n",
      "11 ---> 11\n",
      "12 ---> 12\n",
      "13 ---> 짝\n",
      "14 ---> 14\n",
      "15 ---> 15\n",
      "16 ---> 짝\n",
      "17 ---> 17\n",
      "18 ---> 18\n",
      "19 ---> 짝\n",
      "20 ---> 20\n",
      "21 ---> 21\n",
      "22 ---> 22\n",
      "23 ---> 짝\n",
      "24 ---> 24\n",
      "25 ---> 25\n",
      "26 ---> 짝\n",
      "27 ---> 27\n",
      "28 ---> 28\n",
      "29 ---> 짝\n",
      "30 ---> 짝\n",
      "31 ---> 짝\n",
      "32 ---> 짝\n",
      "33 ---> 짝짝\n",
      "34 ---> 짝\n",
      "35 ---> 짝\n",
      "36 ---> 짝짝\n",
      "37 ---> 짝\n",
      "38 ---> 짝\n",
      "39 ---> 짝짝\n",
      "40 ---> 40\n",
      "41 ---> 41\n",
      "42 ---> 42\n",
      "43 ---> 짝\n",
      "44 ---> 44\n",
      "45 ---> 45\n",
      "46 ---> 짝\n",
      "47 ---> 47\n",
      "48 ---> 48\n",
      "49 ---> 짝\n",
      "50 ---> 50\n",
      "51 ---> 51\n",
      "52 ---> 52\n",
      "53 ---> 짝\n",
      "54 ---> 54\n",
      "55 ---> 55\n",
      "56 ---> 짝\n",
      "57 ---> 57\n",
      "58 ---> 58\n",
      "59 ---> 짝\n",
      "60 ---> 짝\n",
      "61 ---> 짝\n",
      "62 ---> 짝\n",
      "63 ---> 짝짝\n",
      "64 ---> 짝\n",
      "65 ---> 짝\n",
      "66 ---> 짝짝\n",
      "67 ---> 짝\n",
      "68 ---> 짝\n",
      "69 ---> 짝짝\n",
      "70 ---> 70\n",
      "71 ---> 71\n",
      "72 ---> 72\n",
      "73 ---> 짝\n",
      "74 ---> 74\n",
      "75 ---> 75\n",
      "76 ---> 짝\n",
      "77 ---> 77\n",
      "78 ---> 78\n",
      "79 ---> 짝\n",
      "80 ---> 80\n",
      "81 ---> 81\n",
      "82 ---> 82\n",
      "83 ---> 짝\n",
      "84 ---> 84\n",
      "85 ---> 85\n",
      "86 ---> 짝\n",
      "87 ---> 87\n",
      "88 ---> 88\n",
      "89 ---> 짝\n",
      "90 ---> 짝\n",
      "91 ---> 짝\n",
      "92 ---> 짝\n",
      "93 ---> 짝짝\n",
      "94 ---> 짝\n",
      "95 ---> 짝\n",
      "96 ---> 짝짝\n",
      "97 ---> 짝\n",
      "98 ---> 짝\n",
      "99 ---> 짝짝\n",
      "100 ---> 100\n"
     ]
    }
   ],
   "source": [
    "for x in range(1,101):\n",
    "    print(x, '---> ', end = '')\n",
    "    cnt = 0\n",
    "    if (x//10==3) or (x//10 == 6) or (x // 10 == 9):\n",
    "        cnt = cnt + 1\n",
    "    if (x%10 == 3) or (x%10 == 6) or (x%10 == 9):\n",
    "        cnt = cnt + 1\n",
    "    if cnt == 0:\n",
    "        print(x)\n",
    "    else:\n",
    "        print('짝'*cnt)"
   ]
  }
 ],
 "metadata": {
  "kernelspec": {
   "display_name": "Python 3",
   "language": "python",
   "name": "python3"
  },
  "language_info": {
   "codemirror_mode": {
    "name": "ipython",
    "version": 3
   },
   "file_extension": ".py",
   "mimetype": "text/x-python",
   "name": "python",
   "nbconvert_exporter": "python",
   "pygments_lexer": "ipython3",
   "version": "3.8.8"
  }
 },
 "nbformat": 4,
 "nbformat_minor": 5
}
