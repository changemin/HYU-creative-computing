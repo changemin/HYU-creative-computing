{
 "cells": [
  {
   "cell_type": "markdown",
   "id": "c861e221",
   "metadata": {},
   "source": [
    "## 11624_W2_2022076762_변경민"
   ]
  },
  {
   "cell_type": "code",
   "execution_count": 17,
   "id": "45d053ce",
   "metadata": {},
   "outputs": [
    {
     "name": "stdout",
     "output_type": "stream",
     "text": [
      "Hello world!\n",
      "What is your name?\n",
      "경민\n",
      "It is good to meet you 경민\n"
     ]
    }
   ],
   "source": [
    "# python programming Day 1\n",
    "# \"Hello world\" Programminng\n",
    "\n",
    "print('Hello world!')\n",
    "print('What is your name?')\n",
    "myName = input()\n",
    "print('It is good to meet you '+myName)"
   ]
  },
  {
   "cell_type": "code",
   "execution_count": 15,
   "id": "815d1cdf",
   "metadata": {},
   "outputs": [
    {
     "name": "stdout",
     "output_type": "stream",
     "text": [
      "Tell me what your name is.\n",
      "경민\n",
      "Tell me where you will go\n",
      "집\n",
      "Tell me what you will do\n",
      "밥먹기\n",
      "Tell me how long you will stay\n",
      "3시간\n",
      "Your name is경민\n",
      "Your will go집\n",
      "Your will do밥먹기\n",
      "Your will stay for3시간\n"
     ]
    }
   ],
   "source": [
    "print('Tell me what your name is.')\n",
    "name = input()\n",
    "print('Tell me where you will go')\n",
    "where = input()\n",
    "print('Tell me what you will do')\n",
    "what = input()\n",
    "print('Tell me how long you will stay')\n",
    "when = input()\n",
    "\n",
    "print('Your name is'+name)\n",
    "print('Your will go'+where)\n",
    "print('Your will do'+what)\n",
    "print('Your will stay for'+when)"
   ]
  },
  {
   "cell_type": "markdown",
   "id": "3b079a25",
   "metadata": {},
   "source": [
    "### P1. 변수 이름 만들어보기"
   ]
  },
  {
   "cell_type": "code",
   "execution_count": 14,
   "id": "6f389d78",
   "metadata": {},
   "outputs": [],
   "source": [
    "HYU_Building_201_Height = 100 # 201건물 높이\n",
    "HYU_Building_202_Height = 200 # 202건물 높이\n",
    "HYU_Building_203_Height = 300 # 203건물 높이\n",
    "HYU_Building_204_Height = 400 # 204건물 높이\n",
    "HYU_Building_206_Height = 500 # 206건물 높이\n",
    "\n",
    "HYU_Building_201_Name = '재성토목관'\n",
    "HYU_Building_202_Name = '건축관'\n",
    "HYU_Building_203_Name = '과학기술관'\n",
    "HYU_Building_204_Name = '신소재공학관'\n",
    "HYU_Building_206_Name = '공업센터 본관'\n",
    "\n",
    "# 학생 5명 중간고사\n",
    "Stu1_middle_score = 50\n",
    "Stu2_middle_score = 60\n",
    "Stu3_middle_score = 70\n",
    "Stu4_middle_score = 80\n",
    "Stu5_middle_score = 90\n",
    "\n",
    "#학생 5명 기말고사\n",
    "Stu1_last_score = 90\n",
    "Stu2_last_score = 80\n",
    "Stu3_last_score = 70\n",
    "Stu4_last_score = 60\n",
    "Stu5_last_score = 50\n",
    "\n",
    "#고양이 3마리 털 정보\n",
    "Cat1_hair_length = 10\n",
    "Cat2_hair_length = 8\n",
    "Cat3_hair_length = 9\n",
    "\n",
    "Cat1_hair_color = 'black'\n",
    "Cat1_hair_color = 'blue'\n",
    "Cat1_hair_color = 'brown'"
   ]
  },
  {
   "cell_type": "markdown",
   "id": "6362798c",
   "metadata": {},
   "source": [
    "### P2. 나무를 베자"
   ]
  },
  {
   "cell_type": "code",
   "execution_count": 6,
   "id": "d89444a9",
   "metadata": {},
   "outputs": [
    {
     "name": "stdout",
     "output_type": "stream",
     "text": [
      "콩 콩 콩 콩 콩 콩 콩 콩 콩 콩 나무를 10번 찍었습니다.\n"
     ]
    }
   ],
   "source": [
    "print('콩 콩 콩 콩 콩 콩 콩 콩 콩 콩 나무를 10번 찍었습니다.')"
   ]
  },
  {
   "cell_type": "code",
   "execution_count": 7,
   "id": "436d3301",
   "metadata": {},
   "outputs": [
    {
     "name": "stdout",
     "output_type": "stream",
     "text": [
      "콩 콩 콩 콩 콩 콩 콩 콩 콩 콩 나무를 10번 찍었습니다.\n"
     ]
    }
   ],
   "source": [
    "print('콩 '*10+'나무를 10번 찍었습니다.')"
   ]
  },
  {
   "cell_type": "code",
   "execution_count": 3,
   "id": "9cd0ab92",
   "metadata": {},
   "outputs": [
    {
     "name": "stdout",
     "output_type": "stream",
     "text": [
      "콩 콩 콩 콩 콩 콩 콩 콩 콩 콩 나무를 10번 찍었습니다.\n"
     ]
    }
   ],
   "source": [
    "kong ='콩 '\n",
    "print(kong*10+'나무를 10번 찍었습니다.')"
   ]
  },
  {
   "cell_type": "markdown",
   "id": "5cdf37b3",
   "metadata": {},
   "source": [
    "### P3-1. 'Favorite'"
   ]
  },
  {
   "cell_type": "code",
   "execution_count": 12,
   "id": "47f8b5ac",
   "metadata": {},
   "outputs": [
    {
     "name": "stdout",
     "output_type": "stream",
     "text": [
      "Tell me your favorites\n",
      "Your favorite fruit is apple\n",
      "Your favorite flower is lilac\n",
      "Your favorite food is chicken\n",
      "You like applelilacchicken\n"
     ]
    }
   ],
   "source": [
    "print('Tell me your favorites')\n",
    "fruit = input('Your favorite fruit is ')\n",
    "flower = input('Your favorite flower is ')\n",
    "food = input('Your favorite food is ')\n",
    "print('You like ' + fruit + flower + food)"
   ]
  },
  {
   "cell_type": "markdown",
   "id": "8e3c0805",
   "metadata": {},
   "source": [
    "### P3-2. 다음과 같은 실행결과가 나오도록 프로그램을 작성하세요."
   ]
  },
  {
   "cell_type": "code",
   "execution_count": 11,
   "id": "d1cfec8f",
   "metadata": {},
   "outputs": [
    {
     "name": "stdout",
     "output_type": "stream",
     "text": [
      "이름이 무엇인가요?변경민\n",
      "전공 분야는 무엇인가요?건축학\n",
      "프로그램 언어를 배운 적이 있나요 예, 아니오아니오\n",
      "언어를 배운 적이 있나면 몇 년 정도인가요?0\n",
      "들어본 것이 있나요?파이썬\n",
      "이번 학기 예상되는 학점의 평점은 어떻게 되나요?3.0\n"
     ]
    }
   ],
   "source": [
    "name = input('이름이 무엇인가요?')\n",
    "major = input('전공 분야는 무엇인가요?')\n",
    "isExperience = input('프로그램 언어를 배운 적이 있나요 예, 아니오')\n",
    "Experience = input('언어를 배운 적이 있나면 몇 년 정도인가요?')\n",
    "heared = input('들어본 것이 있나요?')\n",
    "score = input('이번 학기 예상되는 학점의 평점은 어떻게 되나요?')"
   ]
  },
  {
   "cell_type": "markdown",
   "id": "d821fe28",
   "metadata": {},
   "source": [
    "### P3-3. 두수의 합"
   ]
  },
  {
   "cell_type": "code",
   "execution_count": 10,
   "id": "853b9142",
   "metadata": {},
   "outputs": [
    {
     "name": "stdout",
     "output_type": "stream",
     "text": [
      "숫자입력:1\n",
      "숫자입력:2\n",
      "두 수의 합은 3 입니다.\n"
     ]
    }
   ],
   "source": [
    "# n3 = n1 + n2 #선언되지 않은 변수에 대한 연산은 불가하다.\n",
    "n1 = int(input('숫자입력:'))\n",
    "n2 = int(input('숫자입력:'))\n",
    "n3 = n1+n2\n",
    "print('두 수의 합은',n3,'입니다.')"
   ]
  },
  {
   "cell_type": "markdown",
   "id": "b1d13e3c",
   "metadata": {},
   "source": [
    "### P4. 자릿수 구분하기"
   ]
  },
  {
   "cell_type": "code",
   "execution_count": 33,
   "id": "137452d4",
   "metadata": {},
   "outputs": [
    {
     "name": "stdout",
     "output_type": "stream",
     "text": [
      "정수를 입력하세요.2345\n",
      "천의 자리수:  2\n",
      "백의 자리수:  3\n",
      "십의 자리수:  4\n",
      "일의 자리수:  5\n"
     ]
    }
   ],
   "source": [
    "num = int(input('정수를 입력하세요.'))\n",
    "\n",
    "digit_1 = num%10\n",
    "num = num/10\n",
    "digit_2 = num%10\n",
    "num = num/10\n",
    "digit_3 = num%10\n",
    "num = num/10\n",
    "digit_4 = num%10\n",
    "\n",
    "print('천의 자리수: ', int(digit_4))\n",
    "print('백의 자리수: ', int(digit_3))\n",
    "print('십의 자리수: ', int(digit_2))\n",
    "print('일의 자리수: ', int(digit_1))\n"
   ]
  },
  {
   "cell_type": "markdown",
   "id": "dadaafb3",
   "metadata": {},
   "source": [
    "### P5. 시분초"
   ]
  },
  {
   "cell_type": "code",
   "execution_count": 53,
   "id": "f92f4b46",
   "metadata": {},
   "outputs": [
    {
     "name": "stdout",
     "output_type": "stream",
     "text": [
      "초를 입력하세요.36633\n",
      "10 시간  10 분  33 초\n"
     ]
    }
   ],
   "source": [
    "sec = int(input('초를 입력하세요.'))\n",
    "hour = int(sec/3600)\n",
    "sec = sec%3600\n",
    "minute = int(sec/60)\n",
    "sec = int(sec%60)\n",
    "\n",
    "print(hour,'시간 ',minute,'분 ',sec,'초')"
   ]
  },
  {
   "cell_type": "markdown",
   "id": "7fe1a38a",
   "metadata": {},
   "source": [
    "### P6. 시각화하기"
   ]
  },
  {
   "cell_type": "code",
   "execution_count": 48,
   "id": "91d29021",
   "metadata": {},
   "outputs": [
    {
     "name": "stdout",
     "output_type": "stream",
     "text": [
      "점수를 입력하세요.86\n",
      "---- 막대그래프 ----\n",
      "86 점  ********\n"
     ]
    }
   ],
   "source": [
    "score = int(input('점수를 입력하세요.'))\n",
    "print('---- 막대그래프 ----')\n",
    "print(score,'점 ','*'*int(score/10))"
   ]
  },
  {
   "cell_type": "code",
   "execution_count": null,
   "id": "27403972",
   "metadata": {},
   "outputs": [],
   "source": []
  }
 ],
 "metadata": {
  "kernelspec": {
   "display_name": "Python 3 (ipykernel)",
   "language": "python",
   "name": "python3"
  },
  "language_info": {
   "codemirror_mode": {
    "name": "ipython",
    "version": 3
   },
   "file_extension": ".py",
   "mimetype": "text/x-python",
   "name": "python",
   "nbconvert_exporter": "python",
   "pygments_lexer": "ipython3",
   "version": "3.9.7"
  }
 },
 "nbformat": 4,
 "nbformat_minor": 5
}
