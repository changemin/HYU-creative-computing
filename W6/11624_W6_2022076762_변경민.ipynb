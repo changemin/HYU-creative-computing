{
 "cells": [
  {
   "cell_type": "markdown",
   "id": "6a24dbb8",
   "metadata": {},
   "source": [
    "# 11624_W1_2022076762_변경민"
   ]
  },
  {
   "cell_type": "markdown",
   "id": "067255f8",
   "metadata": {},
   "source": [
    "## P1. 다음을 입력하고 실행해보세요."
   ]
  },
  {
   "cell_type": "code",
   "execution_count": null,
   "id": "29fdc41e",
   "metadata": {},
   "outputs": [],
   "source": [
    "import random\n",
    "\n",
    "print('가위~', '바위~', '보~!!!!')\n",
    "print('3판 다승제 가위바위보~!!!!')\n",
    "\n",
    "while True:\n",
    "    print('삼세판 가자~')\n",
    "    cnt, cnt_userWin, cnt_comWin = 0,0,0\n",
    "    while cnt < 3 :\n",
    "        print('-'*50)\n",
    "        yourHand = input('가위~ 바위~ 보! 중에 하나를 골라주세요 ~')\n",
    "        comRandom = random.randint(1,3)\n",
    "        if comRandom == 1:\n",
    "            comHand = '가위'\n",
    "        elif comRandom == 2:\n",
    "            comHand = '바위'\n",
    "        else:\n",
    "            comHand = '보'\n",
    "        # 승부 판단\n",
    "        ## 컴퓨터가 이기는 경우\n",
    "        if((comHand == '가위' and yourHannd =='보')\n",
    "           or (comHand == '바위' and yourHand == '가위')\n",
    "           or (comHand == '보' and yourHand =='바위')):\n",
    "            winner = '컴퓨터'\n",
    "        ## 사용자가 이기는 경우\n",
    "        elif((comHand == '가위' and yourHannd =='바위')\n",
    "           or (comHand == '바위' and yourHand == '보')\n",
    "           or (comHand == '보' and yourHand =='가위')):\n",
    "            winner = '당신'\n",
    "        ## 비기는 경우\n",
    "        else:\n",
    "            winner = '비김'\n",
    "        # 승부 결과 출력\n",
    "        if winner =='당신':\n",
    "            print('당신 이김! 컴퓨터 짐! (You:',yourHand,'Com:',comHand,')')\n",
    "            cnt_userWin = cnt_userWin + 1\n",
    "        elif winner == '컴퓨터':\n",
    "            print('당신 짐! 컴퓨터 이김! (You:',yourHand,'Com:',comHand,')')\n",
    "            cnt_comWin = cnt_comWin + 1\n",
    "        else:\n",
    "            print('무승부! (You:',yourHand,'Com:',comHand,')')\n",
    "        cnt = cnt + 1\n",
    "        \n",
    "        print('-'*50)\n",
    "        \n",
    "        # 3판 다승제 승자 결정\n",
    "        print()\n",
    "        if cnt_userWin > cnt_comWin:\n",
    "            print(' >>> 당신이 최종 승리! <<<')\n",
    "        elif cnt_comWin > cnt_userWin:\n",
    "            print(' >>> 컴퓨터가 최종 승리! <<<')\n",
    "        else:\n",
    "            print(' >>> 무승부 <<< ')\n",
    "        print()\n",
    "        \n",
    "        # 가위바위보 반복실행 여부 결정\n",
    "        if input('그만 하시겠습니까? (y/n)') == 'y':\n",
    "            break"
   ]
  },
  {
   "cell_type": "markdown",
   "id": "1b1b6f06",
   "metadata": {},
   "source": [
    "## P2. 정수를 입력받아 다음과 같은 계산을 하는 프로그램을 작성하세요."
   ]
  },
  {
   "cell_type": "code",
   "execution_count": 29,
   "id": "eb366828",
   "metadata": {},
   "outputs": [
    {
     "name": "stdout",
     "output_type": "stream",
     "text": [
      "정수 입력:5\n",
      "(1)+(1+2)+(1+2+3)+(1+2+3+4)+(1+2+3+4+5) = 35\n"
     ]
    }
   ],
   "source": [
    "n = int(input('정수 입력:'))\n",
    "i = 1\n",
    "j = 1\n",
    "s = 0\n",
    "ans = ''\n",
    "while i <= n:\n",
    "    j = 1\n",
    "    ans = ans + '('\n",
    "    while j <= i:\n",
    "        s = s + j\n",
    "        ans = ans + str(j)\n",
    "        j = j + 1\n",
    "        if j-1 == i:\n",
    "            ans = ans + ')'\n",
    "        if not(j-1 == i and i == n):\n",
    "            ans = ans + '+'\n",
    "    i = i + 1\n",
    "print(ans,'=',s)"
   ]
  },
  {
   "cell_type": "markdown",
   "id": "8c5888a5",
   "metadata": {},
   "source": [
    "## P3. 중첩 while이나 다중 while을 이용하여 다음 문양을 출력하세요."
   ]
  },
  {
   "cell_type": "markdown",
   "id": "3ce5a777",
   "metadata": {},
   "source": [
    "### P3-1"
   ]
  },
  {
   "cell_type": "code",
   "execution_count": 52,
   "id": "8faa6443",
   "metadata": {},
   "outputs": [
    {
     "name": "stdout",
     "output_type": "stream",
     "text": [
      "      *\n",
      "\n",
      "     ***\n",
      "\n",
      "    *****\n",
      "\n",
      "   *******\n",
      "\n",
      "  *********\n",
      "\n",
      " ***********\n",
      "\n",
      "*************\n",
      "\n"
     ]
    }
   ],
   "source": [
    "i = 1\n",
    "j = 0\n",
    "line = ''\n",
    "while i <= 7:\n",
    "    line = ''\n",
    "    line = line + (7-i)*' '\n",
    "    line = line + (i*2-1)*'*'\n",
    "    i = i + 1\n",
    "    print(line)\n",
    "    print()"
   ]
  },
  {
   "cell_type": "markdown",
   "id": "e738b5ef",
   "metadata": {},
   "source": [
    "## P3-2"
   ]
  },
  {
   "cell_type": "code",
   "execution_count": 18,
   "id": "38c94381",
   "metadata": {},
   "outputs": [
    {
     "name": "stdout",
     "output_type": "stream",
     "text": [
      "*********\n",
      "\n",
      " *******\n",
      "\n",
      "  *****\n",
      "\n",
      "   ***\n",
      "\n",
      "    *\n",
      "\n",
      "   ***\n",
      "\n",
      "  *****\n",
      "\n",
      " *******\n",
      "\n",
      "*********\n",
      "\n"
     ]
    }
   ],
   "source": [
    "i = 1\n",
    "line = ''\n",
    "while i <= 5:\n",
    "    line = ''\n",
    "    if not(i ==6):\n",
    "        \n",
    "        line = line + (i-1)*' '\n",
    "    line = line + ((6-i)*2-1)*'*'\n",
    "    i = i + 1\n",
    "    print(line)\n",
    "    print()\n",
    "\n",
    "\n",
    "    \n",
    "i = 1\n",
    "line = ''\n",
    "while i <= 4:\n",
    "    line = ''\n",
    "    line = line + (4-i)*' '\n",
    "    line = line + ((i+1)*2-1)*'*'\n",
    "    i = i + 1\n",
    "    print(line)\n",
    "    print()"
   ]
  },
  {
   "cell_type": "markdown",
   "id": "42a8ea42",
   "metadata": {},
   "source": [
    "## P3-3"
   ]
  },
  {
   "cell_type": "code",
   "execution_count": 5,
   "id": "c36e51a9",
   "metadata": {},
   "outputs": [
    {
     "name": "stdout",
     "output_type": "stream",
     "text": [
      "\n",
      "1 \n",
      "\n",
      "2 3 \n",
      "\n",
      "4 5 6 \n",
      "\n",
      "7 8 9 10 \n",
      "\n",
      "11 12 13 14 15 \n",
      "\n",
      "16 17 18 19 20 21 \n",
      "\n",
      "22 23 24 25 26 27 28 \n"
     ]
    }
   ],
   "source": [
    "i = 0\n",
    "j = 0\n",
    "n = 1\n",
    "line = ''\n",
    "while i < 7:\n",
    "    print()\n",
    "    i = i + 1\n",
    "    j = 0\n",
    "    line = ''\n",
    "    while j < i:\n",
    "        j = j + 1\n",
    "        line = line + str(n) + ' '\n",
    "        n = n + 1\n",
    "    print(line)"
   ]
  },
  {
   "cell_type": "markdown",
   "id": "401bdfbc",
   "metadata": {},
   "source": [
    "## P4. 다음과 같이 별다방음료값을 계산하는 프로그램을 작성하세요."
   ]
  },
  {
   "cell_type": "code",
   "execution_count": 22,
   "id": "c90abfa6",
   "metadata": {},
   "outputs": [
    {
     "name": "stdout",
     "output_type": "stream",
     "text": [
      "당신은 별다방에 왔습니다.\n",
      "\n",
      "---별다방 메뉴---\n",
      "[1] 아메리카노: 5500원\n",
      "[2] 카페라테: 6000원\n",
      "[3] 카푸치노: 6500원\n",
      "[0] 종료\n",
      "\n",
      "음료를 주문하세요.\n",
      "당신의 이름: 변경민\n",
      "메뉴 선택1\n",
      "수량 선택2\n",
      "메뉴 선택1\n",
      "수량 선택2\n",
      "메뉴 선택0\n",
      "변경민 님의 총 요금은 22000 원 입니다.\n",
      "다음 손님 있습니까?y\n",
      "음료를 주문하세요.\n",
      "당신의 이름: 경민\n",
      "메뉴 선택2\n",
      "수량 선택3\n",
      "메뉴 선택2\n",
      "수량 선택3\n",
      "메뉴 선택0\n",
      "경민 님의 총 요금은 58000 원 입니다.\n",
      "다음 손님 있습니까?n\n"
     ]
    }
   ],
   "source": [
    "print('당신은 별다방에 왔습니다.')\n",
    "print()\n",
    "print('---별다방 메뉴---')\n",
    "print('[1] 아메리카노: 5500원')\n",
    "print('[2] 카페라테: 6000원')\n",
    "print('[3] 카푸치노: 6500원')\n",
    "print('[0] 종료')\n",
    "print()\n",
    "\n",
    "isCustomer = 1\n",
    "name = ''\n",
    "choice = 0\n",
    "price = 0\n",
    "while isCustomer == 1:\n",
    "    print('음료를 주문하세요.')\n",
    "    name = input('당신의 이름: ')\n",
    "    while True:\n",
    "        choice = int(input('메뉴 선택'))\n",
    "        if choice == 1:\n",
    "            price = price + 5500*int(input('수량 선택'))\n",
    "        elif choice == 2:\n",
    "            price = price + 6000*int(input('수량 선택'))\n",
    "        elif choice == 3:\n",
    "            price = price + 6500*int(input('수량 선택'))\n",
    "        elif choice == 0:\n",
    "            print(name,'님의 총 요금은',price,'원 입니다.')\n",
    "            if input('다음 손님 있습니까?')=='y':\n",
    "                isCustomer = 1\n",
    "                break\n",
    "            else:\n",
    "                isCustomer = 0\n",
    "                break\n",
    "        "
   ]
  }
 ],
 "metadata": {
  "kernelspec": {
   "display_name": "Python 3 (ipykernel)",
   "language": "python",
   "name": "python3"
  },
  "language_info": {
   "codemirror_mode": {
    "name": "ipython",
    "version": 3
   },
   "file_extension": ".py",
   "mimetype": "text/x-python",
   "name": "python",
   "nbconvert_exporter": "python",
   "pygments_lexer": "ipython3",
   "version": "3.9.7"
  }
 },
 "nbformat": 4,
 "nbformat_minor": 5
}
